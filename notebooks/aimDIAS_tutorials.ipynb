{
  "cells": [
    {
      "cell_type": "markdown",
      "metadata": {
        "colab_type": "text",
        "id": "view-in-github"
      },
      "source": [
        "<a href=\"https://colab.research.google.com/github/kangmg/aimDIAS/blob/main/notebooks/aimDIAS_tutorials.ipynb\" target=\"_parent\"><img src=\"https://colab.research.google.com/assets/colab-badge.svg\" alt=\"Open In Colab\"/></a>"
      ]
    },
    {
      "cell_type": "markdown",
      "metadata": {
        "id": "iv5b_94GNTIn"
      },
      "source": [
        "# Basic Tutorials"
      ]
    },
    {
      "cell_type": "markdown",
      "metadata": {
        "id": "9uSXUEZ_Jzxi"
      },
      "source": [
        "## Install aimDIAS"
      ]
    },
    {
      "cell_type": "markdown",
      "metadata": {
        "id": "2-MlusdYJjqN"
      },
      "source": [
        "### pip install ( recommended )"
      ]
    },
    {
      "cell_type": "code",
      "execution_count": null,
      "metadata": {
        "colab": {
          "base_uri": "https://localhost:8080/"
        },
        "id": "fVpmHBIfJiem",
        "outputId": "c7f40109-f3f4-4bbb-d32a-49d4bcc7bd18"
      },
      "outputs": [],
      "source": [
        "!pip install -q aimDIAS"
      ]
    },
    {
      "cell_type": "code",
      "execution_count": null,
      "metadata": {
        "colab": {
          "base_uri": "https://localhost:8080/",
          "height": 35
        },
        "id": "xtjZ6MaLKLzV",
        "outputId": "515be52f-54fe-4a39-bd98-4980a8643305"
      },
      "outputs": [],
      "source": [
        "import aimDIAS\n",
        "aimDIAS.__version__ # 1.0.1"
      ]
    },
    {
      "cell_type": "markdown",
      "metadata": {
        "id": "yRYrrG5jE-7Y"
      },
      "source": [
        "### git clone ( not recommended )"
      ]
    },
    {
      "cell_type": "code",
      "execution_count": null,
      "metadata": {
        "id": "DIZXMNm-BoyT"
      },
      "outputs": [],
      "source": [
        "# clone repository\n",
        "!git clone https://github.com/kangmg/aimDIAS\n",
        "\n",
        "# `git clone` doesn't directly install git lfs files(it contains metadata only). You'll need to manually remove it.\n",
        "!rm /content/aimDIAS/aimDIAS/models/*\n",
        "\n",
        "# ( optional ) Manual download. Otherwise, autoDIAS will automatically download the models.\n",
        "!wget -P /content/aimDIAS/aimDIAS/models -q https://github.com/kangmg/aimDIAS/raw/main/models/aimnet2_b973c_ens.jpt\n",
        "!wget -P /content/aimDIAS/aimDIAS/models -q https://github.com/kangmg/aimDIAS/raw/main/models/aimnet2_wb97m-d3_ens.jpt\n",
        "\n",
        "# install dependencies\n",
        "!pip install -q -r /content/aimDIAS/requirements.txt\n",
        "\n",
        "!echo \"Done!\""
      ]
    },
    {
      "cell_type": "code",
      "execution_count": null,
      "metadata": {
        "id": "HdBlqlu8CLYw"
      },
      "outputs": [],
      "source": [
        "# append path\n",
        "import sys\n",
        "sys.path.append(\"/content/aimDIAS\")"
      ]
    },
    {
      "cell_type": "code",
      "execution_count": null,
      "metadata": {
        "id": "miOynCxYpvK_"
      },
      "outputs": [],
      "source": [
        "import aimDIAS\n",
        "aimDIAS.__version__ # 1.0.1"
      ]
    },
    {
      "cell_type": "markdown",
      "metadata": {
        "id": "jmnI9jC5M2Qk"
      },
      "source": [
        "## General Introduction"
      ]
    },
    {
      "cell_type": "markdown",
      "metadata": {
        "id": "8YlHqLZhM5H_"
      },
      "source": [
        "\n",
        "> ***Docs String***\n",
        "\n",
        "- To view detailed usage for a function, please check the docstring. You can see the whole parameters via `help(function name)`.\n",
        "\n",
        "- e.g.\n",
        "```python\n",
        "from aimDIAS import aimDIAS_run\n",
        "> help(aimDIAS_run)\n",
        "aimDIAS_run(...)\n",
        "    Description\n",
        "    -----------\n",
        "    Performs Activation Strain Model (ASM) & Distortion/Interaction (D/I) analysis on an XYZ trajectory using the AIMNet2 calculator.\n",
        "    \n",
        "    Parameters\n",
        "    ----------\n",
        "      - trajFile (str) : The trajectory file path or trajectory format string to read.\n",
        "      - fragments_params[list|dict] : If provided as a dictionary, keys are fragment names and values are fragment data. If provided as a list, it contains fragment data and default names are assigned.\n",
        "      - mode (str, optional) : The mode of operation can be either `calculation` or `plot`. In `plot` mode, aimDIAS calculations are skipped, and plots with previously calculated results.\n",
        "      - DIAresultPath (str, optional) : The path to the previously calculated aimDIAS result file. Required when mode is \"plot\". Default is \"aimDIAS_result.json\".\n",
        "      - axis_type (str, optional) : The type of axis for plotting, either \"irc\", \"distance\", \"angle\", or \"dihedral\". Default is \"irc\".\n",
        "      - geo_param (dict | None, optional) : Geometric parameters for the axis. Required when axis_type is specified ( != irc ). Default is None.\n",
        "      - model (str, optional) : The computational model to use. Default is \"b973c\".\n",
        "      - unit (str, optional) : The unit for energy values. [\"eV\", \"Hartree\", \"kcal/mol\", \"kJ/mol\"] Default is \"kcal/mol\".\n",
        "      - include_fragments (bool, optional) : Whether to include fragment energies in the plot. Default is False.\n",
        "      - relative_idx (None | str | int, optional) : The index for relative energy calculation. Default is 0.\n",
        "      - plot_highlights (dict, optional) : Highlighting options for the plot. Default is {\"marker\": False, \"linestyle\": True}.\n",
        "      - resultSavePath (str, optional) : The path to save the plot. Default is \"./aimDIAS_result.json\".\n",
        "      - horizontal_line (bool, optional) : Whether to include a horizontal line at y=0. Default is True.\n",
        "      - save_kws (dict, optional) : Additional keywords(`title`,`note`) arguments for saving the results file. Default is {}.\n",
        "    \n",
        "    Note\n",
        "    ----\n",
        "    Important parameters\n",
        "    \n",
        "    1. axis_type, geo_param --> your plot axis type\n",
        "    2. mode, DIAresultPath  --> plot without calculation\n",
        "    \n",
        "    Example\n",
        "    -------\n",
        "    >>> fragments_params = {\n",
        "    ...     \"Br-\": (-1, [2]),\n",
        "    ...     \"CH3+\": (+1, [1, 3, 4, 5]),\n",
        "    ...     \"Cl-\": (-1, [6])\n",
        "    ... }\n",
        "    >>> aimDIAS_run(\"trajectory.xyz\", fragments_params)\n",
        "```"
      ]
    },
    {
      "cell_type": "code",
      "execution_count": 1,
      "metadata": {},
      "outputs": [
        {
          "name": "stdout",
          "output_type": "stream",
          "text": [
            "\n",
            "\u001b[1m[\u001b[0m\u001b[34;49mnotice\u001b[0m\u001b[1;39;49m]\u001b[0m\u001b[39;49m A new release of pip is available: \u001b[0m\u001b[31;49m24.0\u001b[0m\u001b[39;49m -> \u001b[0m\u001b[32;49m24.1.1\u001b[0m\n",
            "\u001b[1m[\u001b[0m\u001b[34;49mnotice\u001b[0m\u001b[1;39;49m]\u001b[0m\u001b[39;49m To update, run: \u001b[0m\u001b[32;49mpython3 -m pip install --upgrade pip\u001b[0m\n"
          ]
        }
      ],
      "source": [
        "import sys\n",
        "sys.path.append(\"/workspaces/ML-dias\")\n",
        "\n",
        "!pip install -q -r /workspaces/ML-dias/requirements.txt"
      ]
    },
    {
      "cell_type": "markdown",
      "metadata": {
        "id": "-Clz8zvNP86S"
      },
      "source": [
        "\n",
        "\n",
        "\n",
        "\n",
        "> ***Available models***"
      ]
    },
    {
      "cell_type": "code",
      "execution_count": 2,
      "metadata": {
        "colab": {
          "base_uri": "https://localhost:8080/"
        },
        "id": "ze3bAJuaPxYN",
        "outputId": "3f2f9de5-a9fc-49fe-a0b7-30a24506d3df"
      },
      "outputs": [
        {
          "name": "stdout",
          "output_type": "stream",
          "text": [
            "\n",
            "- Supported models\n",
            "\n",
            "      Abbr.     |      Full Name           |  Recommended\n",
            "    ________________________________________________________\n",
            "      b0        | aimnet2_b973c_0.jpt      |\n",
            "      b1        | aimnet2_b973c_1.jpt      |\n",
            "      b2        | aimnet2_b973c_2.jpt      |\n",
            "      b3        | aimnet2_b973c_3.jpt      | \n",
            "      b973c     | aimnet2_b973c_ens.jpt    |   * (default)\n",
            "      w0        | aimnet2_wb97m-d3_0.jpt   |\n",
            "      w1        | aimnet2_wb97m-d3_1.jpt   |\n",
            "      w2        | aimnet2_wb97m-d3_2.jpt   |\n",
            "      w3        | aimnet2_wb97m-d3_3.jpt   |\n",
            "      wb97m-d3  | aimnet2_wb97m-d3_ens.jpt |   *\n",
            "    ________________________________________________________\n",
            "\n",
            "[Note] \n",
            "- Both `Abbr.' and `Full Name` are supported.\n",
            "- The ensemble models( `b973c`,  `wb97m-d3`) are included in the aimDIAS package. However, other models will be automatically downloaded when they are called.\n",
            "\n"
          ]
        }
      ],
      "source": [
        "from aimDIAS import models\n",
        "models()"
      ]
    },
    {
      "cell_type": "markdown",
      "metadata": {
        "id": "bywtyi4QQN-q"
      },
      "source": [
        "\n",
        "Two ensemble models, `b973c` and `wb97m-d3`, consist of four individual models. As a result, the calculation time is much slower (about four times slower), but the accuracy is also much higher.\n"
      ]
    },
    {
      "cell_type": "markdown",
      "metadata": {
        "id": "J0X0sj23X237"
      },
      "source": [
        "> ***Contributes this project***\n",
        "\n",
        "-   💡 Please share your XYZ traj file with other users.\n",
        "\n",
        "-   ✏️ The shared file will be uploaded to the `samples/` directory along with your GitHub ID in` samples/samples.txt` for reference.\n",
        "\n",
        "> ***HOW TO***\n",
        "\n",
        "-   🔗 If you've uploaded your file on [github discussion page](https://github.com/kangmg/aimDIAS/discussions/2), then I will add it.\n",
        "\n",
        "\n",
        "![image.png](data:image/png;base64,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)\n"
      ]
    },
    {
      "cell_type": "markdown",
      "metadata": {
        "id": "nvy_ottdFXLv"
      },
      "source": [
        "## Load Sample data"
      ]
    },
    {
      "cell_type": "code",
      "execution_count": 3,
      "metadata": {
        "colab": {
          "base_uri": "https://localhost:8080/"
        },
        "id": "34Uz7WXuFZ76",
        "outputId": "5a7beb2e-4594-49bd-844a-91f8822b1902"
      },
      "outputs": [
        {
          "name": "stdout",
          "output_type": "stream",
          "text": [
            "________________________________________________________\n",
            "Data Name         |   Description\n",
            "__________________|_____________________________________\n",
            "sn2.xyz           |   sn2 reaction \n",
            "wittig.xyz        |   wittig reaction\n",
            "DA.xyz            |   diels alder reaction\n",
            "fluoroethane.xyz  |   unimolecular thermal decomposition\n",
            "__________________|_____________________________________\n",
            "\n"
          ]
        }
      ],
      "source": [
        "from aimDIAS import available_data, load_data\n",
        "\n",
        "available_data()"
      ]
    },
    {
      "cell_type": "markdown",
      "metadata": {
        "id": "Cef-hZQ6i79s"
      },
      "source": [
        "In this tutorial, we'll download and use `sn2.xyz`."
      ]
    },
    {
      "cell_type": "code",
      "execution_count": 4,
      "metadata": {
        "colab": {
          "base_uri": "https://localhost:8080/"
        },
        "id": "_pVcMjanjbvw",
        "outputId": "b3aebf69-3e5c-4fa0-bdbc-da85f36718d4"
      },
      "outputs": [
        {
          "name": "stdout",
          "output_type": "stream",
          "text": [
            "sn2.xyz file saved in ./sn2.xyz\n",
            " 6\n",
            " 0.000000\n",
            "  C -1.277168 0.545365 -0.000063\n",
            "  Br 0.648058 0.543727 0.000199\n",
            "  H -1.652166 0.593222 1.017641\n",
            "  H -1.652215 -0.359651 -0.467952\n",
            "  H -1.651698 1.403205 -0.550042\n",
            "  Cl -4.402752 0.572053 0.000227\n",
            " 6\n",
            " 0.000000\n",
            "  C -1.294919 0.542959 0.001299\n",
            "  Br 0.694616 0.543808 -0.000438\n",
            "  H -1.636980 0.598072 1.030309\n",
            "  H -1.637355 -0.369230 -0.477817\n",
            "  H -1.633737 1.408958 -0.553873\n",
            "  Cl -4.352783 0.570770 0.000338\n",
            " 6\n",
            " 0.000000\n",
            "  C -1.315835 0.540982 0.002430\n",
            "  Br 0.737905 0.544117 -0.001198\n",
            "  H -1.623462 0.601663 1.042079\n",
            "  H -1.624161 -0.378494 -0.486125\n",
            "  H -1.618359 1.414529 -0.557551\n",
            "  Cl -4.306244 0.570083 0.000092\n",
            " 6\n",
            " 0.000000\n",
            "  C -1.339677 0.539417 0.003342\n",
            "  Br 0.778164 0.544540 -0.002007\n",
            "  H -1.611638 0.604179 1.052782\n",
            "  H -1.612659 -0.387212 -0.492968\n",
            "  H -1.605420 1.419807 -0.561005\n",
            "  Cl -4.262904 0.569876 -0.000429\n",
            " 6\n",
            " 0.000000\n",
            "  C -1.366581 0.538239 0.004055\n",
            "  Br 0.815256 0.544987 -0.002802\n",
            "  H -1.601896 0.605824 1.062287\n",
            "  H -1.603235 -0.395175 -0.498473\n",
            "  H -1.595159 1.424690 -0.564166\n",
            "  Cl -4.222910 0.570016 -0.001135\n",
            " 6\n",
            " 0.000000\n",
            "  C -1.396921 0.537420 0.004595\n",
            "  Br 0.848807 0.545389 -0.003529\n",
            "  H -1.594843 0.606819 1.070495\n",
            "  H -1.596495 -0.402193 -0.502783\n",
            "  H -1.588047 1.429090 -0.566973\n",
            "  Cl -4.186639 0.570383 -0.001940\n",
            " 6\n",
            " 0.000000\n",
            "  C -1.431179 0.536936 0.004988\n",
            "  Br 0.878349 0.545696 -0.004144\n",
            "  H -1.591171 0.607382 1.077329\n",
            "  H -1.593130 -0.408099 -0.506053\n",
            "  H -1.584653 1.432937 -0.569371\n",
            "  Cl -4.154565 0.570876 -0.002768\n",
            " 6\n",
            " 0.000000\n",
            "  C -1.469988 0.536776 0.005252\n",
            "  Br 0.903269 0.545886 -0.004619\n",
            "  H -1.591701 0.607720 1.082741\n",
            "  H -1.593960 -0.412748 -0.508430\n",
            "  H -1.585688 1.436191 -0.571323\n",
            "  Cl -4.127302 0.571417 -0.003556\n",
            " 6\n",
            " 0.000000\n",
            "  C -1.515108 0.536986 0.005389\n",
            "  Br 0.921841 0.546011 -0.004956\n",
            "  H -1.598352 0.608067 1.086686\n",
            "  H -1.600902 -0.415977 -0.510068\n",
            "  H -1.592975 1.438888 -0.572824\n",
            "  Cl -4.106575 0.572011 -0.004277\n",
            " 6\n",
            " 0.000000\n",
            "  C -1.575642 0.537865 0.005347\n",
            "  Br 0.925010 0.546387 -0.005215\n",
            "  H -1.620356 0.608861 1.089101\n",
            "  H -1.623188 -0.417415 -0.511134\n",
            "  H -1.615665 1.441328 -0.573923\n",
            "  Cl -4.101437 0.572923 -0.004957\n",
            " 6\n",
            " 0.000000\n",
            "  C -1.668385 0.539912 0.005108\n",
            "  Br 0.896034 0.547547 -0.005433\n",
            "  H -1.674605 0.610691 1.089978\n",
            "  H -1.677706 -0.416533 -0.511735\n",
            "  H -1.670591 1.444027 -0.574649\n",
            "  Cl -4.128622 0.574623 -0.005598\n",
            " 6\n",
            " 0.000000\n",
            "  C -1.750666 0.541334 0.005081\n",
            "  Br 0.877640 0.547728 -0.005221\n",
            "  H -1.718497 0.611806 1.089754\n",
            "  H -1.721857 -0.415133 -0.511511\n",
            "  H -1.715103 1.445212 -0.574606\n",
            "  Cl -4.145399 0.575310 -0.005781\n",
            " 6\n",
            " 0.000000\n",
            "  C -1.801257 0.541904 0.005111\n",
            "  Br 0.891108 0.546733 -0.004753\n",
            "  H -1.730856 0.611972 1.088313\n",
            "  H -1.734462 -0.413478 -0.510626\n",
            "  H -1.727985 1.444681 -0.573963\n",
            "  Cl -4.130482 0.574755 -0.005659\n",
            " 6\n",
            " 0.000000\n",
            "  C -1.842429 0.542385 0.005056\n",
            "  Br 0.914208 0.545368 -0.004195\n",
            "  H -1.733983 0.611902 1.085552\n",
            "  H -1.737821 -0.410860 -0.509193\n",
            "  H -1.731520 1.443218 -0.572876\n",
            "  Cl -4.106097 0.573715 -0.005369\n",
            " 6\n",
            " 0.000000\n",
            "  C -1.878061 0.542888 0.004907\n",
            "  Br 0.943081 0.543765 -0.003568\n",
            "  H -1.731779 0.611626 1.081499\n",
            "  H -1.735833 -0.407236 -0.507162\n",
            "  H -1.729592 1.440948 -0.571361\n",
            "  Cl -4.076101 0.572311 -0.004926\n",
            " 6\n",
            " 0.000000\n",
            "  C -1.909415 0.543469 0.004648\n",
            "  Br 0.976472 0.541999 -0.002896\n",
            "  H -1.725511 0.611084 1.076159\n",
            "  H -1.729764 -0.402613 -0.504451\n",
            "  H -1.723466 1.437928 -0.569434\n",
            "  Cl -4.041750 0.570606 -0.004346\n",
            " 6\n",
            " 0.000000\n",
            "  C -1.937260 0.544191 0.004250\n",
            "  Br 1.013600 0.540140 -0.002210\n",
            "  H -1.715968 0.610157 1.069459\n",
            "  H -1.720402 -0.396967 -0.500902\n",
            "  H -1.713930 1.434179 -0.567096\n",
            "  Cl -4.003838 0.568660 -0.003651\n",
            " 6\n",
            " 0.000000\n",
            "  C -1.962113 0.545138 0.003669\n",
            "  Br 1.053926 0.538280 -0.001555\n",
            "  H -1.703765 0.608624 1.061212\n",
            "  H -1.708356 -0.390210 -0.496224\n",
            "  H -1.701556 1.429679 -0.564322\n",
            "  Cl -3.962931 0.566542 -0.002873\n",
            " 6\n",
            " 0.000000\n",
            "  C -2.057102 0.550513 0.000642\n",
            "  Br 1.144979 0.538859 -0.002771\n",
            "  H -1.696450 0.597590 1.025256\n",
            "  H -1.701169 -0.362061 -0.471265\n",
            "  H -1.694343 1.412552 -0.553247\n",
            "  Cl -3.871921 0.558152 0.001228\n",
            " 6\n",
            " 0.000000\n",
            "  C -2.079726 0.551724 0.000181\n",
            "  Br 1.128916 0.535431 -0.000439\n",
            "  H -1.716302 0.597582 1.023606\n",
            "  H -1.721086 -0.360355 -0.470061\n",
            "  H -1.711738 1.412215 -0.552817\n",
            "  Cl -3.888003 0.561313 -0.000459\n",
            "\n"
          ]
        }
      ],
      "source": [
        "# download file\n",
        "load_data(\"sn2.xyz\", save_file=True)\n",
        "\n",
        "# (optional) show download traj file\n",
        "xyz = load_data(\"sn2.xyz\")\n",
        "print(xyz)"
      ]
    },
    {
      "cell_type": "code",
      "execution_count": 5,
      "metadata": {
        "colab": {
          "base_uri": "https://localhost:8080/"
        },
        "id": "9-L73wQokkei",
        "outputId": "8db0e916-2798-4c9d-8042-aa407e612885"
      },
      "outputs": [
        {
          "name": "stdout",
          "output_type": "stream",
          "text": [
            "Number of IRC points :  20\n"
          ]
        }
      ],
      "source": [
        "# (optional) check number of IRC points.\n",
        "from aimDIAS import read_traj\n",
        "\n",
        "traj = read_traj(\"sn2.xyz\")\n",
        "\n",
        "print(\"Number of IRC points : \", len(traj))"
      ]
    },
    {
      "cell_type": "markdown",
      "metadata": {
        "id": "R52uMJyUcMgZ"
      },
      "source": [
        "\n",
        "<br/>\n",
        "\n",
        "> ***traj format capatibility***\n",
        "\n",
        "\n",
        "```\n",
        "# h2.xyz\n",
        "\n",
        "  2\n",
        "\n",
        "  H 0 0 0\n",
        "  H 0 0 1\n",
        "  \n",
        "  2\n",
        "\n",
        "  H 0 0 0\n",
        "  H 0 0 2\n",
        "\n",
        "```\n",
        "\n",
        "aimDIAS inherently supports both format : ***file_path*** / ***xyz_raw_string***\n",
        "- xyz_raw_string\n",
        "  - e.g. `draw_xyz(\"2\\n\\n H 0 0 0\\n H 0 0 1\\n\\n 2\\n\\n H . . .\")`\n",
        "\n",
        "\n",
        "- file_path of traj files\n",
        "  - e.g. `draw_xyz(\"h2.xyz\")`\n",
        "\n"
      ]
    },
    {
      "cell_type": "code",
      "execution_count": 6,
      "metadata": {
        "colab": {
          "base_uri": "https://localhost:8080/",
          "height": 567
        },
        "id": "34h4wrJPkDPK",
        "outputId": "1318e47a-04c5-45c2-b9ba-72c4d53be47f"
      },
      "outputs": [
        {
          "data": {
            "application/3dmoljs_load.v0": "<div id=\"3dmolviewer_17203704426958156\"  style=\"position: relative; width: 550px; height: 550px;\">\n        <p id=\"3dmolwarning_17203704426958156\" style=\"background-color:#ffcccc;color:black\">3Dmol.js failed to load for some reason.  Please check your browser console for error messages.<br></p>\n        </div>\n<script>\n\nvar loadScriptAsync = function(uri){\n  return new Promise((resolve, reject) => {\n    //this is to ignore the existence of requirejs amd\n    var savedexports, savedmodule;\n    if (typeof exports !== 'undefined') savedexports = exports;\n    else exports = {}\n    if (typeof module !== 'undefined') savedmodule = module;\n    else module = {}\n\n    var tag = document.createElement('script');\n    tag.src = uri;\n    tag.async = true;\n    tag.onload = () => {\n        exports = savedexports;\n        module = savedmodule;\n        resolve();\n    };\n  var firstScriptTag = document.getElementsByTagName('script')[0];\n  firstScriptTag.parentNode.insertBefore(tag, firstScriptTag);\n});\n};\n\nif(typeof $3Dmolpromise === 'undefined') {\n$3Dmolpromise = null;\n  $3Dmolpromise = loadScriptAsync('https://cdnjs.cloudflare.com/ajax/libs/3Dmol/2.2.0/3Dmol-min.js');\n}\n\nvar viewer_17203704426958156 = null;\nvar warn = document.getElementById(\"3dmolwarning_17203704426958156\");\nif(warn) {\n    warn.parentNode.removeChild(warn);\n}\n$3Dmolpromise.then(function() {\nviewer_17203704426958156 = $3Dmol.createViewer(document.getElementById(\"3dmolviewer_17203704426958156\"),{backgroundColor:\"white\"});\nviewer_17203704426958156.zoomTo();\n\tviewer_17203704426958156.removeAllModels();\n\tviewer_17203704426958156.addModel(\"\\n     RDKit          3D\\n\\n  6  4  0  0  0  0  0  0  0  0999 V2000\\n   -1.2772    0.5454   -0.0001 C   0  0  0  0  0  0  0  0  0  0  0  0\\n    0.6481    0.5437    0.0002 Br  0  0  0  0  0  0  0  0  0  0  0  0\\n   -1.6522    0.5932    1.0176 H   0  0  0  0  0  0  0  0  0  0  0  0\\n   -1.6522   -0.3597   -0.4680 H   0  0  0  0  0  0  0  0  0  0  0  0\\n   -1.6517    1.4032   -0.5500 H   0  0  0  0  0  0  0  0  0  0  0  0\\n   -4.4028    0.5721    0.0002 Cl  0  0  0  0  0 15  0  0  0  0  0  0\\n  2  1  1  0\\n  3  1  1  0\\n  4  1  1  0\\n  5  1  1  0\\nM  CHG  1   6  -1\\nM  END\\n\",\"sdf\");\n\tviewer_17203704426958156.setStyle({\"stick\": {}});\n\tviewer_17203704426958156.setBackgroundColor(\"0xeeeeee\");\n\tviewer_17203704426958156.addLabel(\" 1\",{\"position\": {\"x\": -1.277168, \"y\": 0.545365, \"z\": -6.3e-05}, \"fontSize\": 14, \"backgroundColor\": \"black\", \"fontColor\": \"white\"});\n\tviewer_17203704426958156.addLabel(\" 2\",{\"position\": {\"x\": 0.648058, \"y\": 0.543727, \"z\": 0.000199}, \"fontSize\": 14, \"backgroundColor\": \"black\", \"fontColor\": \"white\"});\n\tviewer_17203704426958156.addLabel(\" 3\",{\"position\": {\"x\": -1.652166, \"y\": 0.593222, \"z\": 1.017641}, \"fontSize\": 14, \"backgroundColor\": \"black\", \"fontColor\": \"white\"});\n\tviewer_17203704426958156.addLabel(\" 4\",{\"position\": {\"x\": -1.652215, \"y\": -0.359651, \"z\": -0.467952}, \"fontSize\": 14, \"backgroundColor\": \"black\", \"fontColor\": \"white\"});\n\tviewer_17203704426958156.addLabel(\" 5\",{\"position\": {\"x\": -1.651698, \"y\": 1.403205, \"z\": -0.550042}, \"fontSize\": 14, \"backgroundColor\": \"black\", \"fontColor\": \"white\"});\n\tviewer_17203704426958156.addLabel(\" 6\",{\"position\": {\"x\": -4.402752, \"y\": 0.572053, \"z\": 0.000227}, \"fontSize\": 14, \"backgroundColor\": \"black\", \"fontColor\": \"white\"});\n\tviewer_17203704426958156.zoomTo();\nviewer_17203704426958156.render();\n});\n</script>",
            "text/html": [
              "<div id=\"3dmolviewer_17203704426958156\"  style=\"position: relative; width: 550px; height: 550px;\">\n",
              "        <p id=\"3dmolwarning_17203704426958156\" style=\"background-color:#ffcccc;color:black\">3Dmol.js failed to load for some reason.  Please check your browser console for error messages.<br></p>\n",
              "        </div>\n",
              "<script>\n",
              "\n",
              "var loadScriptAsync = function(uri){\n",
              "  return new Promise((resolve, reject) => {\n",
              "    //this is to ignore the existence of requirejs amd\n",
              "    var savedexports, savedmodule;\n",
              "    if (typeof exports !== 'undefined') savedexports = exports;\n",
              "    else exports = {}\n",
              "    if (typeof module !== 'undefined') savedmodule = module;\n",
              "    else module = {}\n",
              "\n",
              "    var tag = document.createElement('script');\n",
              "    tag.src = uri;\n",
              "    tag.async = true;\n",
              "    tag.onload = () => {\n",
              "        exports = savedexports;\n",
              "        module = savedmodule;\n",
              "        resolve();\n",
              "    };\n",
              "  var firstScriptTag = document.getElementsByTagName('script')[0];\n",
              "  firstScriptTag.parentNode.insertBefore(tag, firstScriptTag);\n",
              "});\n",
              "};\n",
              "\n",
              "if(typeof $3Dmolpromise === 'undefined') {\n",
              "$3Dmolpromise = null;\n",
              "  $3Dmolpromise = loadScriptAsync('https://cdnjs.cloudflare.com/ajax/libs/3Dmol/2.2.0/3Dmol-min.js');\n",
              "}\n",
              "\n",
              "var viewer_17203704426958156 = null;\n",
              "var warn = document.getElementById(\"3dmolwarning_17203704426958156\");\n",
              "if(warn) {\n",
              "    warn.parentNode.removeChild(warn);\n",
              "}\n",
              "$3Dmolpromise.then(function() {\n",
              "viewer_17203704426958156 = $3Dmol.createViewer(document.getElementById(\"3dmolviewer_17203704426958156\"),{backgroundColor:\"white\"});\n",
              "viewer_17203704426958156.zoomTo();\n",
              "\tviewer_17203704426958156.removeAllModels();\n",
              "\tviewer_17203704426958156.addModel(\"\\n     RDKit          3D\\n\\n  6  4  0  0  0  0  0  0  0  0999 V2000\\n   -1.2772    0.5454   -0.0001 C   0  0  0  0  0  0  0  0  0  0  0  0\\n    0.6481    0.5437    0.0002 Br  0  0  0  0  0  0  0  0  0  0  0  0\\n   -1.6522    0.5932    1.0176 H   0  0  0  0  0  0  0  0  0  0  0  0\\n   -1.6522   -0.3597   -0.4680 H   0  0  0  0  0  0  0  0  0  0  0  0\\n   -1.6517    1.4032   -0.5500 H   0  0  0  0  0  0  0  0  0  0  0  0\\n   -4.4028    0.5721    0.0002 Cl  0  0  0  0  0 15  0  0  0  0  0  0\\n  2  1  1  0\\n  3  1  1  0\\n  4  1  1  0\\n  5  1  1  0\\nM  CHG  1   6  -1\\nM  END\\n\",\"sdf\");\n",
              "\tviewer_17203704426958156.setStyle({\"stick\": {}});\n",
              "\tviewer_17203704426958156.setBackgroundColor(\"0xeeeeee\");\n",
              "\tviewer_17203704426958156.addLabel(\" 1\",{\"position\": {\"x\": -1.277168, \"y\": 0.545365, \"z\": -6.3e-05}, \"fontSize\": 14, \"backgroundColor\": \"black\", \"fontColor\": \"white\"});\n",
              "\tviewer_17203704426958156.addLabel(\" 2\",{\"position\": {\"x\": 0.648058, \"y\": 0.543727, \"z\": 0.000199}, \"fontSize\": 14, \"backgroundColor\": \"black\", \"fontColor\": \"white\"});\n",
              "\tviewer_17203704426958156.addLabel(\" 3\",{\"position\": {\"x\": -1.652166, \"y\": 0.593222, \"z\": 1.017641}, \"fontSize\": 14, \"backgroundColor\": \"black\", \"fontColor\": \"white\"});\n",
              "\tviewer_17203704426958156.addLabel(\" 4\",{\"position\": {\"x\": -1.652215, \"y\": -0.359651, \"z\": -0.467952}, \"fontSize\": 14, \"backgroundColor\": \"black\", \"fontColor\": \"white\"});\n",
              "\tviewer_17203704426958156.addLabel(\" 5\",{\"position\": {\"x\": -1.651698, \"y\": 1.403205, \"z\": -0.550042}, \"fontSize\": 14, \"backgroundColor\": \"black\", \"fontColor\": \"white\"});\n",
              "\tviewer_17203704426958156.addLabel(\" 6\",{\"position\": {\"x\": -4.402752, \"y\": 0.572053, \"z\": 0.000227}, \"fontSize\": 14, \"backgroundColor\": \"black\", \"fontColor\": \"white\"});\n",
              "\tviewer_17203704426958156.zoomTo();\n",
              "viewer_17203704426958156.render();\n",
              "});\n",
              "</script>"
            ]
          },
          "metadata": {},
          "output_type": "display_data"
        }
      ],
      "source": [
        "# check your molecule\n",
        "from aimDIAS import draw_xyz\n",
        "\n",
        "# first xyz in traj\n",
        "draw_xyz(\"sn2.xyz\", charge=-1, idx=0)\n",
        "\n",
        "# Note: The rdkit bond determination module may not be stable with TS."
      ]
    },
    {
      "cell_type": "code",
      "execution_count": 7,
      "metadata": {
        "colab": {
          "base_uri": "https://localhost:8080/",
          "height": 567
        },
        "id": "UJqBwmlxnHRq",
        "outputId": "96b7e3f3-59eb-4714-913c-1a9f16215a20"
      },
      "outputs": [
        {
          "data": {
            "application/3dmoljs_load.v0": "<div id=\"3dmolviewer_17203704427176254\"  style=\"position: relative; width: 550px; height: 550px;\">\n        <p id=\"3dmolwarning_17203704427176254\" style=\"background-color:#ffcccc;color:black\">3Dmol.js failed to load for some reason.  Please check your browser console for error messages.<br></p>\n        </div>\n<script>\n\nvar loadScriptAsync = function(uri){\n  return new Promise((resolve, reject) => {\n    //this is to ignore the existence of requirejs amd\n    var savedexports, savedmodule;\n    if (typeof exports !== 'undefined') savedexports = exports;\n    else exports = {}\n    if (typeof module !== 'undefined') savedmodule = module;\n    else module = {}\n\n    var tag = document.createElement('script');\n    tag.src = uri;\n    tag.async = true;\n    tag.onload = () => {\n        exports = savedexports;\n        module = savedmodule;\n        resolve();\n    };\n  var firstScriptTag = document.getElementsByTagName('script')[0];\n  firstScriptTag.parentNode.insertBefore(tag, firstScriptTag);\n});\n};\n\nif(typeof $3Dmolpromise === 'undefined') {\n$3Dmolpromise = null;\n  $3Dmolpromise = loadScriptAsync('https://cdnjs.cloudflare.com/ajax/libs/3Dmol/2.2.0/3Dmol-min.js');\n}\n\nvar viewer_17203704427176254 = null;\nvar warn = document.getElementById(\"3dmolwarning_17203704427176254\");\nif(warn) {\n    warn.parentNode.removeChild(warn);\n}\n$3Dmolpromise.then(function() {\nviewer_17203704427176254 = $3Dmol.createViewer(document.getElementById(\"3dmolviewer_17203704427176254\"),{backgroundColor:\"white\"});\nviewer_17203704427176254.zoomTo();\n\tviewer_17203704427176254.removeAllModels();\n\tviewer_17203704427176254.addModel(\"\\n     RDKit          3D\\n\\n  6  4  0  0  0  0  0  0  0  0999 V2000\\n   -2.0797    0.5517    0.0002 C   0  0  0  0  0  0  0  0  0  0  0  0\\n    1.1289    0.5354   -0.0004 Br  0  0  0  0  0 15  0  0  0  0  0  0\\n   -1.7163    0.5976    1.0236 H   0  0  0  0  0  0  0  0  0  0  0  0\\n   -1.7211   -0.3604   -0.4701 H   0  0  0  0  0  0  0  0  0  0  0  0\\n   -1.7117    1.4122   -0.5528 H   0  0  0  0  0  0  0  0  0  0  0  0\\n   -3.8880    0.5613   -0.0005 Cl  0  0  0  0  0  0  0  0  0  0  0  0\\n  3  1  1  0\\n  4  1  1  0\\n  5  1  1  0\\n  6  1  1  0\\nM  CHG  1   2  -1\\nM  END\\n\",\"sdf\");\n\tviewer_17203704427176254.setStyle({\"stick\": {}});\n\tviewer_17203704427176254.setBackgroundColor(\"0xeeeeee\");\n\tviewer_17203704427176254.addLabel(\" 1\",{\"position\": {\"x\": -2.079726, \"y\": 0.551724, \"z\": 0.000181}, \"fontSize\": 14, \"backgroundColor\": \"black\", \"fontColor\": \"white\"});\n\tviewer_17203704427176254.addLabel(\" 2\",{\"position\": {\"x\": 1.128916, \"y\": 0.535431, \"z\": -0.000439}, \"fontSize\": 14, \"backgroundColor\": \"black\", \"fontColor\": \"white\"});\n\tviewer_17203704427176254.addLabel(\" 3\",{\"position\": {\"x\": -1.716302, \"y\": 0.597582, \"z\": 1.023606}, \"fontSize\": 14, \"backgroundColor\": \"black\", \"fontColor\": \"white\"});\n\tviewer_17203704427176254.addLabel(\" 4\",{\"position\": {\"x\": -1.721086, \"y\": -0.360355, \"z\": -0.470061}, \"fontSize\": 14, \"backgroundColor\": \"black\", \"fontColor\": \"white\"});\n\tviewer_17203704427176254.addLabel(\" 5\",{\"position\": {\"x\": -1.711738, \"y\": 1.412215, \"z\": -0.552817}, \"fontSize\": 14, \"backgroundColor\": \"black\", \"fontColor\": \"white\"});\n\tviewer_17203704427176254.addLabel(\" 6\",{\"position\": {\"x\": -3.888003, \"y\": 0.561313, \"z\": -0.000459}, \"fontSize\": 14, \"backgroundColor\": \"black\", \"fontColor\": \"white\"});\n\tviewer_17203704427176254.zoomTo();\nviewer_17203704427176254.render();\n});\n</script>",
            "text/html": [
              "<div id=\"3dmolviewer_17203704427176254\"  style=\"position: relative; width: 550px; height: 550px;\">\n",
              "        <p id=\"3dmolwarning_17203704427176254\" style=\"background-color:#ffcccc;color:black\">3Dmol.js failed to load for some reason.  Please check your browser console for error messages.<br></p>\n",
              "        </div>\n",
              "<script>\n",
              "\n",
              "var loadScriptAsync = function(uri){\n",
              "  return new Promise((resolve, reject) => {\n",
              "    //this is to ignore the existence of requirejs amd\n",
              "    var savedexports, savedmodule;\n",
              "    if (typeof exports !== 'undefined') savedexports = exports;\n",
              "    else exports = {}\n",
              "    if (typeof module !== 'undefined') savedmodule = module;\n",
              "    else module = {}\n",
              "\n",
              "    var tag = document.createElement('script');\n",
              "    tag.src = uri;\n",
              "    tag.async = true;\n",
              "    tag.onload = () => {\n",
              "        exports = savedexports;\n",
              "        module = savedmodule;\n",
              "        resolve();\n",
              "    };\n",
              "  var firstScriptTag = document.getElementsByTagName('script')[0];\n",
              "  firstScriptTag.parentNode.insertBefore(tag, firstScriptTag);\n",
              "});\n",
              "};\n",
              "\n",
              "if(typeof $3Dmolpromise === 'undefined') {\n",
              "$3Dmolpromise = null;\n",
              "  $3Dmolpromise = loadScriptAsync('https://cdnjs.cloudflare.com/ajax/libs/3Dmol/2.2.0/3Dmol-min.js');\n",
              "}\n",
              "\n",
              "var viewer_17203704427176254 = null;\n",
              "var warn = document.getElementById(\"3dmolwarning_17203704427176254\");\n",
              "if(warn) {\n",
              "    warn.parentNode.removeChild(warn);\n",
              "}\n",
              "$3Dmolpromise.then(function() {\n",
              "viewer_17203704427176254 = $3Dmol.createViewer(document.getElementById(\"3dmolviewer_17203704427176254\"),{backgroundColor:\"white\"});\n",
              "viewer_17203704427176254.zoomTo();\n",
              "\tviewer_17203704427176254.removeAllModels();\n",
              "\tviewer_17203704427176254.addModel(\"\\n     RDKit          3D\\n\\n  6  4  0  0  0  0  0  0  0  0999 V2000\\n   -2.0797    0.5517    0.0002 C   0  0  0  0  0  0  0  0  0  0  0  0\\n    1.1289    0.5354   -0.0004 Br  0  0  0  0  0 15  0  0  0  0  0  0\\n   -1.7163    0.5976    1.0236 H   0  0  0  0  0  0  0  0  0  0  0  0\\n   -1.7211   -0.3604   -0.4701 H   0  0  0  0  0  0  0  0  0  0  0  0\\n   -1.7117    1.4122   -0.5528 H   0  0  0  0  0  0  0  0  0  0  0  0\\n   -3.8880    0.5613   -0.0005 Cl  0  0  0  0  0  0  0  0  0  0  0  0\\n  3  1  1  0\\n  4  1  1  0\\n  5  1  1  0\\n  6  1  1  0\\nM  CHG  1   2  -1\\nM  END\\n\",\"sdf\");\n",
              "\tviewer_17203704427176254.setStyle({\"stick\": {}});\n",
              "\tviewer_17203704427176254.setBackgroundColor(\"0xeeeeee\");\n",
              "\tviewer_17203704427176254.addLabel(\" 1\",{\"position\": {\"x\": -2.079726, \"y\": 0.551724, \"z\": 0.000181}, \"fontSize\": 14, \"backgroundColor\": \"black\", \"fontColor\": \"white\"});\n",
              "\tviewer_17203704427176254.addLabel(\" 2\",{\"position\": {\"x\": 1.128916, \"y\": 0.535431, \"z\": -0.000439}, \"fontSize\": 14, \"backgroundColor\": \"black\", \"fontColor\": \"white\"});\n",
              "\tviewer_17203704427176254.addLabel(\" 3\",{\"position\": {\"x\": -1.716302, \"y\": 0.597582, \"z\": 1.023606}, \"fontSize\": 14, \"backgroundColor\": \"black\", \"fontColor\": \"white\"});\n",
              "\tviewer_17203704427176254.addLabel(\" 4\",{\"position\": {\"x\": -1.721086, \"y\": -0.360355, \"z\": -0.470061}, \"fontSize\": 14, \"backgroundColor\": \"black\", \"fontColor\": \"white\"});\n",
              "\tviewer_17203704427176254.addLabel(\" 5\",{\"position\": {\"x\": -1.711738, \"y\": 1.412215, \"z\": -0.552817}, \"fontSize\": 14, \"backgroundColor\": \"black\", \"fontColor\": \"white\"});\n",
              "\tviewer_17203704427176254.addLabel(\" 6\",{\"position\": {\"x\": -3.888003, \"y\": 0.561313, \"z\": -0.000459}, \"fontSize\": 14, \"backgroundColor\": \"black\", \"fontColor\": \"white\"});\n",
              "\tviewer_17203704427176254.zoomTo();\n",
              "viewer_17203704427176254.render();\n",
              "});\n",
              "</script>"
            ]
          },
          "metadata": {},
          "output_type": "display_data"
        }
      ],
      "source": [
        "draw_xyz(xyz, charge=-1, idx=-1)"
      ]
    },
    {
      "cell_type": "markdown",
      "metadata": {
        "id": "GI_8hjmcp_qS"
      },
      "source": [
        "\n",
        "## Fragmentation of molecule\n"
      ]
    },
    {
      "cell_type": "markdown",
      "metadata": {
        "id": "SfY_W1U0NBp5"
      },
      "source": [
        "\n",
        "various fragmentations are possible\n",
        "```\n",
        "[ Br-CH3 ]     [ Cl ]\n",
        "\n",
        "[ Br ] [ CH3 ] [ Cl ]\n",
        "\n",
        "[ Br ]     [ CH3-Cl ]\n",
        "```\n",
        "\n",
        "\n",
        "Two posibble fragmentations are\n",
        "\n",
        "-  n=3 fragmentation\n",
        "  - [ Br ]^-  \n",
        "  - [ CH3 ]^+  \n",
        "  - [ Cl ]^-\n",
        "\n",
        "\n",
        "-  n=2 fragmentation\n",
        "  - [ Br-CH3 ]\n",
        "  - [ Cl ]^-"
      ]
    },
    {
      "cell_type": "markdown",
      "metadata": {
        "id": "hCKxZiJDV0LM"
      },
      "source": [
        "\n",
        "\n",
        "---\n",
        "\n",
        "\n",
        "***Future Release Note***\n",
        "\n",
        "- The `auto-fragmentation` will be implemented in a future version.\n",
        "- Hence, a more user-friendly `fragmentation GUI` will be implemented.\n",
        "- In the beta release(v. 1.0.1), user need to specify fragments_params manually.\n",
        "\n",
        "---\n",
        "\n"
      ]
    },
    {
      "cell_type": "markdown",
      "metadata": {
        "id": "bm9utTfTSpl1"
      },
      "source": [
        "> **How to write `fragments_params`**\n",
        "\n",
        "- fragments_params:dict\n",
        "```python\n",
        "# fragmentation with names\n",
        "fp_n3 = {\n",
        "  \"Br-\"   : (-1, [2]),\n",
        "  \"CH3+\"  : (+1, [1,3,4,5]),\n",
        "  \"Cl-\"   : (-1, [6])\n",
        "}\n",
        "```\n",
        "\n",
        "- fragments_params: [list | tuple]\n",
        "```python\n",
        "# fragmentation without names --> use default names\n",
        "fp_n2 = [\n",
        "    (0, [1, 2, 3, 4, 5]), # Br-CH3\n",
        "    (-1, [6]) # Cl-\n",
        "]\n",
        "```"
      ]
    },
    {
      "cell_type": "markdown",
      "metadata": {
        "id": "C0ISesFsFJ35"
      },
      "source": [
        "## Run calculations | sn2 reaction"
      ]
    },
    {
      "cell_type": "code",
      "execution_count": 8,
      "metadata": {
        "colab": {
          "base_uri": "https://localhost:8080/",
          "height": 466
        },
        "id": "ufiXG9L-EasL",
        "outputId": "ee4c4989-847e-4d18-9ff5-29cd7ea5fa9c"
      },
      "outputs": [
        {
          "name": "stdout",
          "output_type": "stream",
          "text": [
            "aimDIAS CALCULATION TERMINATED NORMALLY\n"
          ]
        },
        {
          "data": {
            "image/png": "[encoded data removed]",
            "text/plain": [
              "<Figure size 640x480 with 1 Axes>"
            ]
          },
          "metadata": {},
          "output_type": "display_data"
        }
      ],
      "source": [
        "from aimDIAS import aimDIAS_run\n",
        "from aimDIAS import Calculator\n",
        "\n",
        "calc = lambda : Calculator(charge=-1, model='b973c') # ase calculator\n",
        "# fragments_params\n",
        "fp_n3 = {\n",
        "  \"Br-\"   : (-1, [2]),\n",
        "  \"CH3+\"  : (+1, [1,3,4,5]),\n",
        "  \"Cl-\"   : (-1, [6])\n",
        "}\n",
        "\n",
        "aimDIAS_run(Calculator=calc, trajFile=\"sn2.xyz\",\n",
        "            fragments_params=fp_n3)\n",
        "\n",
        "# Runtime: only 4 mins for SN2 D/I analysis(n_frags=3) with 20 IRC points"
      ]
    },
    {
      "cell_type": "code",
      "execution_count": 9,
      "metadata": {
        "colab": {
          "base_uri": "https://localhost:8080/",
          "height": 466
        },
        "id": "S-6Bi0Y0EVVp",
        "outputId": "d85de20a-0d9f-4053-8a7a-75d2eaace776"
      },
      "outputs": [
        {
          "name": "stdout",
          "output_type": "stream",
          "text": [
            "aimDIAS CALCULATION TERMINATED NORMALLY\n"
          ]
        },
        {
          "data": {
            "image/png": "[encoded data removed]",
            "text/plain": [
              "<Figure size 640x480 with 1 Axes>"
            ]
          },
          "metadata": {},
          "output_type": "display_data"
        }
      ],
      "source": [
        "# fragments_params\n",
        "fp_n2 = [\n",
        "    (0, [1, 2, 3, 4, 5]), # Br-CH3\n",
        "    (-1, [6]) # Cl-\n",
        "]\n",
        "\n",
        "# plot setting\n",
        "unit               = \"eV\"        # \"kJ/mol\", \"Hatree\", \"kcal/mol\", \"eV\"\n",
        "relative_idx       = 0           # min, 0 etc\n",
        "include_fragments  = True        # plot distortion energies of each fragments\n",
        "axis_type          = \"distance\"  # \"angle\", \"dihedral\"\n",
        "\n",
        "# axis setting\n",
        "gp = {\"distance\" : [2, 1]} # distance (C-Br)\n",
        "\n",
        "\n",
        "aimDIAS_run(trajFile=\"sn2.xyz\",\n",
        "            fragments_params=fp_n2,\n",
        "            geo_param=gp,\n",
        "            axis_type=axis_type,\n",
        "            include_fragments=include_fragments,\n",
        "            relative_idx=relative_idx,\n",
        "            unit=unit,\n",
        "            Calculator=calc)\n",
        "\n",
        "# Runtime: only 3~4 mins for SN2 D/I analysis(n_frags=2) with 20 IRC points"
      ]
    },
    {
      "cell_type": "markdown",
      "metadata": {
        "id": "wKb7Rpc2NPIo"
      },
      "source": [
        "# Worked Examples"
      ]
    },
    {
      "cell_type": "markdown",
      "metadata": {
        "id": "uP6XGTIsSE03"
      },
      "source": [
        "## Worked Example 1 | Diels Alder RXN"
      ]
    },
    {
      "cell_type": "code",
      "execution_count": 10,
      "metadata": {
        "colab": {
          "base_uri": "https://localhost:8080/"
        },
        "id": "v9oFsmcyRL6F",
        "outputId": "50194630-22dd-4bce-fa39-9ffc5ef49ae7"
      },
      "outputs": [
        {
          "name": "stdout",
          "output_type": "stream",
          "text": [
            "________________________________________________________\n",
            "Data Name         |   Description\n",
            "__________________|_____________________________________\n",
            "sn2.xyz           |   sn2 reaction \n",
            "wittig.xyz        |   wittig reaction\n",
            "DA.xyz            |   diels alder reaction\n",
            "fluoroethane.xyz  |   unimolecular thermal decomposition\n",
            "__________________|_____________________________________\n",
            "\n"
          ]
        }
      ],
      "source": [
        "available_data()"
      ]
    },
    {
      "cell_type": "code",
      "execution_count": 11,
      "metadata": {
        "colab": {
          "base_uri": "https://localhost:8080/"
        },
        "id": "O5yiDVrTIc9B",
        "outputId": "5b28b17a-a087-4305-ad7e-4f566d0147c2"
      },
      "outputs": [
        {
          "name": "stdout",
          "output_type": "stream",
          "text": [
            "DA.xyz file saved in ./DA.xyz\n",
            "\n",
            "Number of IRC points : 101\n",
            "\n",
            "26\n",
            "0 1 0.058933 \n",
            "C        0.9349010        0.9463030       -1.2660590\n",
            "C        2.2953520        0.4281850       -1.1406570\n",
            "C        0.2427550        1.5144260       -0.2710250\n",
            "H        0.4247480        0.8092610       -2.2156840\n",
            "C        3.1729770        0.6849540       -0.1628570\n",
            "H        2.5950450       -0.2580340       -1.9305820\n",
            "C        0.3346910       -1.0921900        1.5141860\n",
            "C        1.6098140       -1.4722620        1.5374220\n",
            "H        2.9595400        1.3847450        0.6410700\n",
            "H        4.1484200        0.2104100       -0.1483480\n",
            "H        2.2599410       -1.2543400        2.3783860\n",
            "H        2.0259160       -2.0185250        0.6972520\n",
            "H        0.6543010        1.6475830        0.7303670\n",
            "H       -0.1351160       -0.5438150        2.3251780\n",
            "O       -1.0229030        1.9595960       -0.4521950\n",
            "C       -1.7022290        2.3078960        0.7393210\n",
            "H       -2.6790260        2.6897800        0.4409520\n",
            "H       -1.8333380        1.4295020        1.3802540\n",
            "H       -1.1611660        3.0916920        1.2837590\n",
            "C       -0.5021040       -1.3961750        0.3276060\n",
            "O       -0.1527510       -2.0241840       -0.6425140\n",
            "O       -1.7339780       -0.8657420        0.4655410\n",
            "C       -2.5809590       -1.0203100       -0.6701640\n",
            "H       -3.5398780       -0.5872760       -0.3877000\n",
            "H       -2.1567320       -0.4852390       -1.5234690\n",
            "H       -2.6925240       -2.0767250       -0.9227200\n",
            "\n"
          ]
        }
      ],
      "source": [
        "load_data(\"DA.xyz\", save_file=True)\n",
        "\n",
        "# chuck IRC points\n",
        "num_irc = len(read_traj(\"DA.xyz\"))\n",
        "print(f\"\\nNumber of IRC points : {num_irc}\\n\")\n",
        "\n",
        "# first xyz in traj\n",
        "first_DA_xyz = read_traj(\"DA.xyz\", returnString=True)[0]\n",
        "print(first_DA_xyz)"
      ]
    },
    {
      "cell_type": "code",
      "execution_count": 12,
      "metadata": {
        "colab": {
          "base_uri": "https://localhost:8080/",
          "height": 567
        },
        "id": "ozHt_iEURL79",
        "outputId": "17bbb794-67f7-4880-dd98-1bfb5bb643c4"
      },
      "outputs": [
        {
          "data": {
            "application/3dmoljs_load.v0": "<div id=\"3dmolviewer_17203714619856038\"  style=\"position: relative; width: 550px; height: 550px;\">\n        <p id=\"3dmolwarning_17203714619856038\" style=\"background-color:#ffcccc;color:black\">3Dmol.js failed to load for some reason.  Please check your browser console for error messages.<br></p>\n        </div>\n<script>\n\nvar loadScriptAsync = function(uri){\n  return new Promise((resolve, reject) => {\n    //this is to ignore the existence of requirejs amd\n    var savedexports, savedmodule;\n    if (typeof exports !== 'undefined') savedexports = exports;\n    else exports = {}\n    if (typeof module !== 'undefined') savedmodule = module;\n    else module = {}\n\n    var tag = document.createElement('script');\n    tag.src = uri;\n    tag.async = true;\n    tag.onload = () => {\n        exports = savedexports;\n        module = savedmodule;\n        resolve();\n    };\n  var firstScriptTag = document.getElementsByTagName('script')[0];\n  firstScriptTag.parentNode.insertBefore(tag, firstScriptTag);\n});\n};\n\nif(typeof $3Dmolpromise === 'undefined') {\n$3Dmolpromise = null;\n  $3Dmolpromise = loadScriptAsync('https://cdnjs.cloudflare.com/ajax/libs/3Dmol/2.2.0/3Dmol-min.js');\n}\n\nvar viewer_17203714619856038 = null;\nvar warn = document.getElementById(\"3dmolwarning_17203714619856038\");\nif(warn) {\n    warn.parentNode.removeChild(warn);\n}\n$3Dmolpromise.then(function() {\nviewer_17203714619856038 = $3Dmol.createViewer(document.getElementById(\"3dmolviewer_17203714619856038\"),{backgroundColor:\"white\"});\nviewer_17203714619856038.zoomTo();\n\tviewer_17203714619856038.removeAllModels();\n\tviewer_17203714619856038.addModel(\"\\n     RDKit          3D\\n\\n 26 24  0  0  0  0  0  0  0  0999 V2000\\n    0.9349    0.9463   -1.2661 C   0  0  0  0  0  0  0  0  0  0  0  0\\n    2.2954    0.4282   -1.1407 C   0  0  0  0  0  0  0  0  0  0  0  0\\n    0.2428    1.5144   -0.2710 C   0  0  0  0  0  0  0  0  0  0  0  0\\n    0.4247    0.8093   -2.2157 H   0  0  0  0  0  0  0  0  0  0  0  0\\n    3.1730    0.6850   -0.1629 C   0  0  0  0  0  0  0  0  0  0  0  0\\n    2.5950   -0.2580   -1.9306 H   0  0  0  0  0  0  0  0  0  0  0  0\\n    0.3347   -1.0922    1.5142 C   0  0  0  0  0  0  0  0  0  0  0  0\\n    1.6098   -1.4723    1.5374 C   0  0  0  0  0  0  0  0  0  0  0  0\\n    2.9595    1.3847    0.6411 H   0  0  0  0  0  0  0  0  0  0  0  0\\n    4.1484    0.2104   -0.1483 H   0  0  0  0  0  0  0  0  0  0  0  0\\n    2.2599   -1.2543    2.3784 H   0  0  0  0  0  0  0  0  0  0  0  0\\n    2.0259   -2.0185    0.6973 H   0  0  0  0  0  0  0  0  0  0  0  0\\n    0.6543    1.6476    0.7304 H   0  0  0  0  0  0  0  0  0  0  0  0\\n   -0.1351   -0.5438    2.3252 H   0  0  0  0  0  0  0  0  0  0  0  0\\n   -1.0229    1.9596   -0.4522 O   0  0  0  0  0  0  0  0  0  0  0  0\\n   -1.7022    2.3079    0.7393 C   0  0  0  0  0  0  0  0  0  0  0  0\\n   -2.6790    2.6898    0.4410 H   0  0  0  0  0  0  0  0  0  0  0  0\\n   -1.8333    1.4295    1.3803 H   0  0  0  0  0  0  0  0  0  0  0  0\\n   -1.1612    3.0917    1.2838 H   0  0  0  0  0  0  0  0  0  0  0  0\\n   -0.5021   -1.3962    0.3276 C   0  0  0  0  0  0  0  0  0  0  0  0\\n   -0.1528   -2.0242   -0.6425 O   0  0  0  0  0  0  0  0  0  0  0  0\\n   -1.7340   -0.8657    0.4655 O   0  0  0  0  0  0  0  0  0  0  0  0\\n   -2.5810   -1.0203   -0.6702 C   0  0  0  0  0  0  0  0  0  0  0  0\\n   -3.5399   -0.5873   -0.3877 H   0  0  0  0  0  0  0  0  0  0  0  0\\n   -2.1567   -0.4852   -1.5235 H   0  0  0  0  0  0  0  0  0  0  0  0\\n   -2.6925   -2.0767   -0.9227 H   0  0  0  0  0  0  0  0  0  0  0  0\\n  2  1  1  0\\n  3  1  2  0\\n  4  1  1  0\\n  5  2  2  0\\n  6  2  1  0\\n  8  7  2  0\\n  9  5  1  0\\n 10  5  1  0\\n 11  8  1  0\\n 12  8  1  0\\n 13  3  1  0\\n 14  7  1  0\\n 15  3  1  0\\n 16 15  1  0\\n 17 16  1  0\\n 18 16  1  0\\n 19 16  1  0\\n 20  7  1  0\\n 21 20  2  0\\n 22 20  1  0\\n 23 22  1  0\\n 24 23  1  0\\n 25 23  1  0\\n 26 23  1  0\\nM  END\\n\",\"sdf\");\n\tviewer_17203714619856038.setStyle({\"stick\": {}});\n\tviewer_17203714619856038.setBackgroundColor(\"0xeeeeee\");\n\tviewer_17203714619856038.addLabel(\" 1\",{\"position\": {\"x\": 0.934901, \"y\": 0.946303, \"z\": -1.266059}, \"fontSize\": 14, \"backgroundColor\": \"black\", \"fontColor\": \"white\"});\n\tviewer_17203714619856038.addLabel(\" 2\",{\"position\": {\"x\": 2.295352, \"y\": 0.428185, \"z\": -1.140657}, \"fontSize\": 14, \"backgroundColor\": \"black\", \"fontColor\": \"white\"});\n\tviewer_17203714619856038.addLabel(\" 3\",{\"position\": {\"x\": 0.242755, \"y\": 1.514426, \"z\": -0.271025}, \"fontSize\": 14, \"backgroundColor\": \"black\", \"fontColor\": \"white\"});\n\tviewer_17203714619856038.addLabel(\" 4\",{\"position\": {\"x\": 0.424748, \"y\": 0.809261, \"z\": -2.215684}, \"fontSize\": 14, \"backgroundColor\": \"black\", \"fontColor\": \"white\"});\n\tviewer_17203714619856038.addLabel(\" 5\",{\"position\": {\"x\": 3.172977, \"y\": 0.684954, \"z\": -0.162857}, \"fontSize\": 14, \"backgroundColor\": \"black\", \"fontColor\": \"white\"});\n\tviewer_17203714619856038.addLabel(\" 6\",{\"position\": {\"x\": 2.595045, \"y\": -0.258034, \"z\": -1.930582}, \"fontSize\": 14, \"backgroundColor\": \"black\", \"fontColor\": \"white\"});\n\tviewer_17203714619856038.addLabel(\" 7\",{\"position\": {\"x\": 0.334691, \"y\": -1.09219, \"z\": 1.514186}, \"fontSize\": 14, \"backgroundColor\": \"black\", \"fontColor\": \"white\"});\n\tviewer_17203714619856038.addLabel(\" 8\",{\"position\": {\"x\": 1.609814, \"y\": -1.472262, \"z\": 1.537422}, \"fontSize\": 14, \"backgroundColor\": \"black\", \"fontColor\": \"white\"});\n\tviewer_17203714619856038.addLabel(\" 9\",{\"position\": {\"x\": 2.95954, \"y\": 1.384745, \"z\": 0.64107}, \"fontSize\": 14, \"backgroundColor\": \"black\", \"fontColor\": \"white\"});\n\tviewer_17203714619856038.addLabel(\"10\",{\"position\": {\"x\": 4.14842, \"y\": 0.21041, \"z\": -0.148348}, \"fontSize\": 14, \"backgroundColor\": \"black\", \"fontColor\": \"white\"});\n\tviewer_17203714619856038.addLabel(\"11\",{\"position\": {\"x\": 2.259941, \"y\": -1.25434, \"z\": 2.378386}, \"fontSize\": 14, \"backgroundColor\": \"black\", \"fontColor\": \"white\"});\n\tviewer_17203714619856038.addLabel(\"12\",{\"position\": {\"x\": 2.025916, \"y\": -2.018525, \"z\": 0.697252}, \"fontSize\": 14, \"backgroundColor\": \"black\", \"fontColor\": \"white\"});\n\tviewer_17203714619856038.addLabel(\"13\",{\"position\": {\"x\": 0.654301, \"y\": 1.647583, \"z\": 0.730367}, \"fontSize\": 14, \"backgroundColor\": \"black\", \"fontColor\": \"white\"});\n\tviewer_17203714619856038.addLabel(\"14\",{\"position\": {\"x\": -0.135116, \"y\": -0.543815, \"z\": 2.325178}, \"fontSize\": 14, \"backgroundColor\": \"black\", \"fontColor\": \"white\"});\n\tviewer_17203714619856038.addLabel(\"15\",{\"position\": {\"x\": -1.022903, \"y\": 1.959596, \"z\": -0.452195}, \"fontSize\": 14, \"backgroundColor\": \"black\", \"fontColor\": \"white\"});\n\tviewer_17203714619856038.addLabel(\"16\",{\"position\": {\"x\": -1.702229, \"y\": 2.307896, \"z\": 0.739321}, \"fontSize\": 14, \"backgroundColor\": \"black\", \"fontColor\": \"white\"});\n\tviewer_17203714619856038.addLabel(\"17\",{\"position\": {\"x\": -2.679026, \"y\": 2.68978, \"z\": 0.440952}, \"fontSize\": 14, \"backgroundColor\": \"black\", \"fontColor\": \"white\"});\n\tviewer_17203714619856038.addLabel(\"18\",{\"position\": {\"x\": -1.833338, \"y\": 1.429502, \"z\": 1.380254}, \"fontSize\": 14, \"backgroundColor\": \"black\", \"fontColor\": \"white\"});\n\tviewer_17203714619856038.addLabel(\"19\",{\"position\": {\"x\": -1.161166, \"y\": 3.091692, \"z\": 1.283759}, \"fontSize\": 14, \"backgroundColor\": \"black\", \"fontColor\": \"white\"});\n\tviewer_17203714619856038.addLabel(\"20\",{\"position\": {\"x\": -0.502104, \"y\": -1.396175, \"z\": 0.327606}, \"fontSize\": 14, \"backgroundColor\": \"black\", \"fontColor\": \"white\"});\n\tviewer_17203714619856038.addLabel(\"21\",{\"position\": {\"x\": -0.152751, \"y\": -2.024184, \"z\": -0.642514}, \"fontSize\": 14, \"backgroundColor\": \"black\", \"fontColor\": \"white\"});\n\tviewer_17203714619856038.addLabel(\"22\",{\"position\": {\"x\": -1.733978, \"y\": -0.865742, \"z\": 0.465541}, \"fontSize\": 14, \"backgroundColor\": \"black\", \"fontColor\": \"white\"});\n\tviewer_17203714619856038.addLabel(\"23\",{\"position\": {\"x\": -2.580959, \"y\": -1.02031, \"z\": -0.670164}, \"fontSize\": 14, \"backgroundColor\": \"black\", \"fontColor\": \"white\"});\n\tviewer_17203714619856038.addLabel(\"24\",{\"position\": {\"x\": -3.539878, \"y\": -0.587276, \"z\": -0.3877}, \"fontSize\": 14, \"backgroundColor\": \"black\", \"fontColor\": \"white\"});\n\tviewer_17203714619856038.addLabel(\"25\",{\"position\": {\"x\": -2.156732, \"y\": -0.485239, \"z\": -1.523469}, \"fontSize\": 14, \"backgroundColor\": \"black\", \"fontColor\": \"white\"});\n\tviewer_17203714619856038.addLabel(\"26\",{\"position\": {\"x\": -2.692524, \"y\": -2.076725, \"z\": -0.92272}, \"fontSize\": 14, \"backgroundColor\": \"black\", \"fontColor\": \"white\"});\n\tviewer_17203714619856038.zoomTo();\nviewer_17203714619856038.render();\n});\n</script>",
            "text/html": [
              "<div id=\"3dmolviewer_17203714619856038\"  style=\"position: relative; width: 550px; height: 550px;\">\n",
              "        <p id=\"3dmolwarning_17203714619856038\" style=\"background-color:#ffcccc;color:black\">3Dmol.js failed to load for some reason.  Please check your browser console for error messages.<br></p>\n",
              "        </div>\n",
              "<script>\n",
              "\n",
              "var loadScriptAsync = function(uri){\n",
              "  return new Promise((resolve, reject) => {\n",
              "    //this is to ignore the existence of requirejs amd\n",
              "    var savedexports, savedmodule;\n",
              "    if (typeof exports !== 'undefined') savedexports = exports;\n",
              "    else exports = {}\n",
              "    if (typeof module !== 'undefined') savedmodule = module;\n",
              "    else module = {}\n",
              "\n",
              "    var tag = document.createElement('script');\n",
              "    tag.src = uri;\n",
              "    tag.async = true;\n",
              "    tag.onload = () => {\n",
              "        exports = savedexports;\n",
              "        module = savedmodule;\n",
              "        resolve();\n",
              "    };\n",
              "  var firstScriptTag = document.getElementsByTagName('script')[0];\n",
              "  firstScriptTag.parentNode.insertBefore(tag, firstScriptTag);\n",
              "});\n",
              "};\n",
              "\n",
              "if(typeof $3Dmolpromise === 'undefined') {\n",
              "$3Dmolpromise = null;\n",
              "  $3Dmolpromise = loadScriptAsync('https://cdnjs.cloudflare.com/ajax/libs/3Dmol/2.2.0/3Dmol-min.js');\n",
              "}\n",
              "\n",
              "var viewer_17203714619856038 = null;\n",
              "var warn = document.getElementById(\"3dmolwarning_17203714619856038\");\n",
              "if(warn) {\n",
              "    warn.parentNode.removeChild(warn);\n",
              "}\n",
              "$3Dmolpromise.then(function() {\n",
              "viewer_17203714619856038 = $3Dmol.createViewer(document.getElementById(\"3dmolviewer_17203714619856038\"),{backgroundColor:\"white\"});\n",
              "viewer_17203714619856038.zoomTo();\n",
              "\tviewer_17203714619856038.removeAllModels();\n",
              "\tviewer_17203714619856038.addModel(\"\\n     RDKit          3D\\n\\n 26 24  0  0  0  0  0  0  0  0999 V2000\\n    0.9349    0.9463   -1.2661 C   0  0  0  0  0  0  0  0  0  0  0  0\\n    2.2954    0.4282   -1.1407 C   0  0  0  0  0  0  0  0  0  0  0  0\\n    0.2428    1.5144   -0.2710 C   0  0  0  0  0  0  0  0  0  0  0  0\\n    0.4247    0.8093   -2.2157 H   0  0  0  0  0  0  0  0  0  0  0  0\\n    3.1730    0.6850   -0.1629 C   0  0  0  0  0  0  0  0  0  0  0  0\\n    2.5950   -0.2580   -1.9306 H   0  0  0  0  0  0  0  0  0  0  0  0\\n    0.3347   -1.0922    1.5142 C   0  0  0  0  0  0  0  0  0  0  0  0\\n    1.6098   -1.4723    1.5374 C   0  0  0  0  0  0  0  0  0  0  0  0\\n    2.9595    1.3847    0.6411 H   0  0  0  0  0  0  0  0  0  0  0  0\\n    4.1484    0.2104   -0.1483 H   0  0  0  0  0  0  0  0  0  0  0  0\\n    2.2599   -1.2543    2.3784 H   0  0  0  0  0  0  0  0  0  0  0  0\\n    2.0259   -2.0185    0.6973 H   0  0  0  0  0  0  0  0  0  0  0  0\\n    0.6543    1.6476    0.7304 H   0  0  0  0  0  0  0  0  0  0  0  0\\n   -0.1351   -0.5438    2.3252 H   0  0  0  0  0  0  0  0  0  0  0  0\\n   -1.0229    1.9596   -0.4522 O   0  0  0  0  0  0  0  0  0  0  0  0\\n   -1.7022    2.3079    0.7393 C   0  0  0  0  0  0  0  0  0  0  0  0\\n   -2.6790    2.6898    0.4410 H   0  0  0  0  0  0  0  0  0  0  0  0\\n   -1.8333    1.4295    1.3803 H   0  0  0  0  0  0  0  0  0  0  0  0\\n   -1.1612    3.0917    1.2838 H   0  0  0  0  0  0  0  0  0  0  0  0\\n   -0.5021   -1.3962    0.3276 C   0  0  0  0  0  0  0  0  0  0  0  0\\n   -0.1528   -2.0242   -0.6425 O   0  0  0  0  0  0  0  0  0  0  0  0\\n   -1.7340   -0.8657    0.4655 O   0  0  0  0  0  0  0  0  0  0  0  0\\n   -2.5810   -1.0203   -0.6702 C   0  0  0  0  0  0  0  0  0  0  0  0\\n   -3.5399   -0.5873   -0.3877 H   0  0  0  0  0  0  0  0  0  0  0  0\\n   -2.1567   -0.4852   -1.5235 H   0  0  0  0  0  0  0  0  0  0  0  0\\n   -2.6925   -2.0767   -0.9227 H   0  0  0  0  0  0  0  0  0  0  0  0\\n  2  1  1  0\\n  3  1  2  0\\n  4  1  1  0\\n  5  2  2  0\\n  6  2  1  0\\n  8  7  2  0\\n  9  5  1  0\\n 10  5  1  0\\n 11  8  1  0\\n 12  8  1  0\\n 13  3  1  0\\n 14  7  1  0\\n 15  3  1  0\\n 16 15  1  0\\n 17 16  1  0\\n 18 16  1  0\\n 19 16  1  0\\n 20  7  1  0\\n 21 20  2  0\\n 22 20  1  0\\n 23 22  1  0\\n 24 23  1  0\\n 25 23  1  0\\n 26 23  1  0\\nM  END\\n\",\"sdf\");\n",
              "\tviewer_17203714619856038.setStyle({\"stick\": {}});\n",
              "\tviewer_17203714619856038.setBackgroundColor(\"0xeeeeee\");\n",
              "\tviewer_17203714619856038.addLabel(\" 1\",{\"position\": {\"x\": 0.934901, \"y\": 0.946303, \"z\": -1.266059}, \"fontSize\": 14, \"backgroundColor\": \"black\", \"fontColor\": \"white\"});\n",
              "\tviewer_17203714619856038.addLabel(\" 2\",{\"position\": {\"x\": 2.295352, \"y\": 0.428185, \"z\": -1.140657}, \"fontSize\": 14, \"backgroundColor\": \"black\", \"fontColor\": \"white\"});\n",
              "\tviewer_17203714619856038.addLabel(\" 3\",{\"position\": {\"x\": 0.242755, \"y\": 1.514426, \"z\": -0.271025}, \"fontSize\": 14, \"backgroundColor\": \"black\", \"fontColor\": \"white\"});\n",
              "\tviewer_17203714619856038.addLabel(\" 4\",{\"position\": {\"x\": 0.424748, \"y\": 0.809261, \"z\": -2.215684}, \"fontSize\": 14, \"backgroundColor\": \"black\", \"fontColor\": \"white\"});\n",
              "\tviewer_17203714619856038.addLabel(\" 5\",{\"position\": {\"x\": 3.172977, \"y\": 0.684954, \"z\": -0.162857}, \"fontSize\": 14, \"backgroundColor\": \"black\", \"fontColor\": \"white\"});\n",
              "\tviewer_17203714619856038.addLabel(\" 6\",{\"position\": {\"x\": 2.595045, \"y\": -0.258034, \"z\": -1.930582}, \"fontSize\": 14, \"backgroundColor\": \"black\", \"fontColor\": \"white\"});\n",
              "\tviewer_17203714619856038.addLabel(\" 7\",{\"position\": {\"x\": 0.334691, \"y\": -1.09219, \"z\": 1.514186}, \"fontSize\": 14, \"backgroundColor\": \"black\", \"fontColor\": \"white\"});\n",
              "\tviewer_17203714619856038.addLabel(\" 8\",{\"position\": {\"x\": 1.609814, \"y\": -1.472262, \"z\": 1.537422}, \"fontSize\": 14, \"backgroundColor\": \"black\", \"fontColor\": \"white\"});\n",
              "\tviewer_17203714619856038.addLabel(\" 9\",{\"position\": {\"x\": 2.95954, \"y\": 1.384745, \"z\": 0.64107}, \"fontSize\": 14, \"backgroundColor\": \"black\", \"fontColor\": \"white\"});\n",
              "\tviewer_17203714619856038.addLabel(\"10\",{\"position\": {\"x\": 4.14842, \"y\": 0.21041, \"z\": -0.148348}, \"fontSize\": 14, \"backgroundColor\": \"black\", \"fontColor\": \"white\"});\n",
              "\tviewer_17203714619856038.addLabel(\"11\",{\"position\": {\"x\": 2.259941, \"y\": -1.25434, \"z\": 2.378386}, \"fontSize\": 14, \"backgroundColor\": \"black\", \"fontColor\": \"white\"});\n",
              "\tviewer_17203714619856038.addLabel(\"12\",{\"position\": {\"x\": 2.025916, \"y\": -2.018525, \"z\": 0.697252}, \"fontSize\": 14, \"backgroundColor\": \"black\", \"fontColor\": \"white\"});\n",
              "\tviewer_17203714619856038.addLabel(\"13\",{\"position\": {\"x\": 0.654301, \"y\": 1.647583, \"z\": 0.730367}, \"fontSize\": 14, \"backgroundColor\": \"black\", \"fontColor\": \"white\"});\n",
              "\tviewer_17203714619856038.addLabel(\"14\",{\"position\": {\"x\": -0.135116, \"y\": -0.543815, \"z\": 2.325178}, \"fontSize\": 14, \"backgroundColor\": \"black\", \"fontColor\": \"white\"});\n",
              "\tviewer_17203714619856038.addLabel(\"15\",{\"position\": {\"x\": -1.022903, \"y\": 1.959596, \"z\": -0.452195}, \"fontSize\": 14, \"backgroundColor\": \"black\", \"fontColor\": \"white\"});\n",
              "\tviewer_17203714619856038.addLabel(\"16\",{\"position\": {\"x\": -1.702229, \"y\": 2.307896, \"z\": 0.739321}, \"fontSize\": 14, \"backgroundColor\": \"black\", \"fontColor\": \"white\"});\n",
              "\tviewer_17203714619856038.addLabel(\"17\",{\"position\": {\"x\": -2.679026, \"y\": 2.68978, \"z\": 0.440952}, \"fontSize\": 14, \"backgroundColor\": \"black\", \"fontColor\": \"white\"});\n",
              "\tviewer_17203714619856038.addLabel(\"18\",{\"position\": {\"x\": -1.833338, \"y\": 1.429502, \"z\": 1.380254}, \"fontSize\": 14, \"backgroundColor\": \"black\", \"fontColor\": \"white\"});\n",
              "\tviewer_17203714619856038.addLabel(\"19\",{\"position\": {\"x\": -1.161166, \"y\": 3.091692, \"z\": 1.283759}, \"fontSize\": 14, \"backgroundColor\": \"black\", \"fontColor\": \"white\"});\n",
              "\tviewer_17203714619856038.addLabel(\"20\",{\"position\": {\"x\": -0.502104, \"y\": -1.396175, \"z\": 0.327606}, \"fontSize\": 14, \"backgroundColor\": \"black\", \"fontColor\": \"white\"});\n",
              "\tviewer_17203714619856038.addLabel(\"21\",{\"position\": {\"x\": -0.152751, \"y\": -2.024184, \"z\": -0.642514}, \"fontSize\": 14, \"backgroundColor\": \"black\", \"fontColor\": \"white\"});\n",
              "\tviewer_17203714619856038.addLabel(\"22\",{\"position\": {\"x\": -1.733978, \"y\": -0.865742, \"z\": 0.465541}, \"fontSize\": 14, \"backgroundColor\": \"black\", \"fontColor\": \"white\"});\n",
              "\tviewer_17203714619856038.addLabel(\"23\",{\"position\": {\"x\": -2.580959, \"y\": -1.02031, \"z\": -0.670164}, \"fontSize\": 14, \"backgroundColor\": \"black\", \"fontColor\": \"white\"});\n",
              "\tviewer_17203714619856038.addLabel(\"24\",{\"position\": {\"x\": -3.539878, \"y\": -0.587276, \"z\": -0.3877}, \"fontSize\": 14, \"backgroundColor\": \"black\", \"fontColor\": \"white\"});\n",
              "\tviewer_17203714619856038.addLabel(\"25\",{\"position\": {\"x\": -2.156732, \"y\": -0.485239, \"z\": -1.523469}, \"fontSize\": 14, \"backgroundColor\": \"black\", \"fontColor\": \"white\"});\n",
              "\tviewer_17203714619856038.addLabel(\"26\",{\"position\": {\"x\": -2.692524, \"y\": -2.076725, \"z\": -0.92272}, \"fontSize\": 14, \"backgroundColor\": \"black\", \"fontColor\": \"white\"});\n",
              "\tviewer_17203714619856038.zoomTo();\n",
              "viewer_17203714619856038.render();\n",
              "});\n",
              "</script>"
            ]
          },
          "metadata": {},
          "output_type": "display_data"
        }
      ],
      "source": [
        "draw_xyz(first_DA_xyz)"
      ]
    },
    {
      "cell_type": "code",
      "execution_count": 13,
      "metadata": {
        "colab": {
          "base_uri": "https://localhost:8080/",
          "height": 567
        },
        "id": "bV0XdIN3Tplu",
        "outputId": "cb0a434f-48f1-41b9-a320-356890c24329"
      },
      "outputs": [
        {
          "data": {
            "application/3dmoljs_load.v0": "<div id=\"3dmolviewer_17203714620394554\"  style=\"position: relative; width: 550px; height: 550px;\">\n        <p id=\"3dmolwarning_17203714620394554\" style=\"background-color:#ffcccc;color:black\">3Dmol.js failed to load for some reason.  Please check your browser console for error messages.<br></p>\n        </div>\n<script>\n\nvar loadScriptAsync = function(uri){\n  return new Promise((resolve, reject) => {\n    //this is to ignore the existence of requirejs amd\n    var savedexports, savedmodule;\n    if (typeof exports !== 'undefined') savedexports = exports;\n    else exports = {}\n    if (typeof module !== 'undefined') savedmodule = module;\n    else module = {}\n\n    var tag = document.createElement('script');\n    tag.src = uri;\n    tag.async = true;\n    tag.onload = () => {\n        exports = savedexports;\n        module = savedmodule;\n        resolve();\n    };\n  var firstScriptTag = document.getElementsByTagName('script')[0];\n  firstScriptTag.parentNode.insertBefore(tag, firstScriptTag);\n});\n};\n\nif(typeof $3Dmolpromise === 'undefined') {\n$3Dmolpromise = null;\n  $3Dmolpromise = loadScriptAsync('https://cdnjs.cloudflare.com/ajax/libs/3Dmol/2.2.0/3Dmol-min.js');\n}\n\nvar viewer_17203714620394554 = null;\nvar warn = document.getElementById(\"3dmolwarning_17203714620394554\");\nif(warn) {\n    warn.parentNode.removeChild(warn);\n}\n$3Dmolpromise.then(function() {\nviewer_17203714620394554 = $3Dmol.createViewer(document.getElementById(\"3dmolviewer_17203714620394554\"),{backgroundColor:\"white\"});\nviewer_17203714620394554.zoomTo();\n\tviewer_17203714620394554.removeAllModels();\n\tviewer_17203714620394554.addModel(\"\\n     RDKit          3D\\n\\n 26 26  0  0  0  0  0  0  0  0999 V2000\\n    1.1121    0.9001   -1.1988 C   0  0  0  0  0  0  0  0  0  0  0  0\\n    2.3281    0.3681   -1.1128 C   0  0  0  0  0  0  0  0  0  0  0  0\\n    0.3564    1.1408    0.0753 C   0  0  2  0  0  0  0  0  0  0  0  0\\n    0.6165    1.1514   -2.1314 H   0  0  0  0  0  0  0  0  0  0  0  0\\n    2.8494    0.0510    0.2623 C   0  0  0  0  0  0  0  0  0  0  0  0\\n    2.9225    0.1463   -1.9937 H   0  0  0  0  0  0  0  0  0  0  0  0\\n    0.3610   -0.1870    0.9201 C   0  0  2  0  0  0  0  0  0  0  0  0\\n    1.7936   -0.7447    1.0634 C   0  0  0  0  0  0  0  0  0  0  0  0\\n    3.0737    0.9879    0.7924 H   0  0  0  0  0  0  0  0  0  0  0  0\\n    3.7835   -0.5148    0.2227 H   0  0  0  0  0  0  0  0  0  0  0  0\\n    2.0804   -0.7716    2.1184 H   0  0  0  0  0  0  0  0  0  0  0  0\\n    1.7930   -1.7728    0.6929 H   0  0  0  0  0  0  0  0  0  0  0  0\\n    0.8758    1.8999    0.6895 H   0  0  0  0  0  0  0  0  0  0  0  0\\n   -0.0925    0.0175    1.8945 H   0  0  0  0  0  0  0  0  0  0  0  0\\n   -0.9226    1.6124   -0.2639 O   0  0  0  0  0  0  0  0  0  0  0  0\\n   -1.6431    2.1718    0.8081 C   0  0  0  0  0  0  0  0  0  0  0  0\\n   -2.5421    2.6221    0.3831 H   0  0  0  0  0  0  0  0  0  0  0  0\\n   -1.9398    1.4121    1.5409 H   0  0  0  0  0  0  0  0  0  0  0  0\\n   -1.0554    2.9539    1.3107 H   0  0  0  0  0  0  0  0  0  0  0  0\\n   -0.5424   -1.1333    0.1614 C   0  0  0  0  0  0  0  0  0  0  0  0\\n   -0.1841   -1.9403   -0.6595 O   0  0  0  0  0  0  0  0  0  0  0  0\\n   -1.8345   -0.8755    0.4329 O   0  0  0  0  0  0  0  0  0  0  0  0\\n   -2.7441   -1.2960   -0.5803 C   0  0  0  0  0  0  0  0  0  0  0  0\\n   -3.7304   -0.9724   -0.2503 H   0  0  0  0  0  0  0  0  0  0  0  0\\n   -2.4820   -0.8125   -1.5250 H   0  0  0  0  0  0  0  0  0  0  0  0\\n   -2.7160   -2.3797   -0.7076 H   0  0  0  0  0  0  0  0  0  0  0  0\\n  2  1  2  0\\n  3  1  1  0\\n  4  1  1  0\\n  5  2  1  0\\n  6  2  1  0\\n  7  3  1  0\\n  8  7  1  0\\n  8  5  1  0\\n  9  5  1  0\\n 10  5  1  0\\n 11  8  1  0\\n 12  8  1  0\\n  3 13  1  1\\n  7 14  1  1\\n 15  3  1  0\\n 16 15  1  0\\n 17 16  1  0\\n 18 16  1  0\\n 19 16  1  0\\n 20  7  1  0\\n 21 20  2  0\\n 22 20  1  0\\n 23 22  1  0\\n 24 23  1  0\\n 25 23  1  0\\n 26 23  1  0\\nM  END\\n\",\"sdf\");\n\tviewer_17203714620394554.setStyle({\"stick\": {}});\n\tviewer_17203714620394554.setBackgroundColor(\"0xeeeeee\");\n\tviewer_17203714620394554.addLabel(\" 1\",{\"position\": {\"x\": 1.112127, \"y\": 0.900142, \"z\": -1.198832}, \"fontSize\": 14, \"backgroundColor\": \"black\", \"fontColor\": \"white\"});\n\tviewer_17203714620394554.addLabel(\" 2\",{\"position\": {\"x\": 2.328134, \"y\": 0.368096, \"z\": -1.112842}, \"fontSize\": 14, \"backgroundColor\": \"black\", \"fontColor\": \"white\"});\n\tviewer_17203714620394554.addLabel(\" 3\",{\"position\": {\"x\": 0.356371, \"y\": 1.140767, \"z\": 0.075338}, \"fontSize\": 14, \"backgroundColor\": \"black\", \"fontColor\": \"white\"});\n\tviewer_17203714620394554.addLabel(\" 4\",{\"position\": {\"x\": 0.616481, \"y\": 1.151395, \"z\": -2.131395}, \"fontSize\": 14, \"backgroundColor\": \"black\", \"fontColor\": \"white\"});\n\tviewer_17203714620394554.addLabel(\" 5\",{\"position\": {\"x\": 2.849366, \"y\": 0.050967, \"z\": 0.262267}, \"fontSize\": 14, \"backgroundColor\": \"black\", \"fontColor\": \"white\"});\n\tviewer_17203714620394554.addLabel(\" 6\",{\"position\": {\"x\": 2.922486, \"y\": 0.146269, \"z\": -1.99374}, \"fontSize\": 14, \"backgroundColor\": \"black\", \"fontColor\": \"white\"});\n\tviewer_17203714620394554.addLabel(\" 7\",{\"position\": {\"x\": 0.361021, \"y\": -0.186957, \"z\": 0.920131}, \"fontSize\": 14, \"backgroundColor\": \"black\", \"fontColor\": \"white\"});\n\tviewer_17203714620394554.addLabel(\" 8\",{\"position\": {\"x\": 1.793628, \"y\": -0.744684, \"z\": 1.063384}, \"fontSize\": 14, \"backgroundColor\": \"black\", \"fontColor\": \"white\"});\n\tviewer_17203714620394554.addLabel(\" 9\",{\"position\": {\"x\": 3.073715, \"y\": 0.987869, \"z\": 0.792373}, \"fontSize\": 14, \"backgroundColor\": \"black\", \"fontColor\": \"white\"});\n\tviewer_17203714620394554.addLabel(\"10\",{\"position\": {\"x\": 3.78352, \"y\": -0.514792, \"z\": 0.222706}, \"fontSize\": 14, \"backgroundColor\": \"black\", \"fontColor\": \"white\"});\n\tviewer_17203714620394554.addLabel(\"11\",{\"position\": {\"x\": 2.080352, \"y\": -0.771552, \"z\": 2.118446}, \"fontSize\": 14, \"backgroundColor\": \"black\", \"fontColor\": \"white\"});\n\tviewer_17203714620394554.addLabel(\"12\",{\"position\": {\"x\": 1.793042, \"y\": -1.772808, \"z\": 0.692898}, \"fontSize\": 14, \"backgroundColor\": \"black\", \"fontColor\": \"white\"});\n\tviewer_17203714620394554.addLabel(\"13\",{\"position\": {\"x\": 0.875767, \"y\": 1.899888, \"z\": 0.689473}, \"fontSize\": 14, \"backgroundColor\": \"black\", \"fontColor\": \"white\"});\n\tviewer_17203714620394554.addLabel(\"14\",{\"position\": {\"x\": -0.092523, \"y\": 0.017501, \"z\": 1.894465}, \"fontSize\": 14, \"backgroundColor\": \"black\", \"fontColor\": \"white\"});\n\tviewer_17203714620394554.addLabel(\"15\",{\"position\": {\"x\": -0.922576, \"y\": 1.612397, \"z\": -0.263917}, \"fontSize\": 14, \"backgroundColor\": \"black\", \"fontColor\": \"white\"});\n\tviewer_17203714620394554.addLabel(\"16\",{\"position\": {\"x\": -1.643068, \"y\": 2.171816, \"z\": 0.808108}, \"fontSize\": 14, \"backgroundColor\": \"black\", \"fontColor\": \"white\"});\n\tviewer_17203714620394554.addLabel(\"17\",{\"position\": {\"x\": -2.542088, \"y\": 2.622118, \"z\": 0.383072}, \"fontSize\": 14, \"backgroundColor\": \"black\", \"fontColor\": \"white\"});\n\tviewer_17203714620394554.addLabel(\"18\",{\"position\": {\"x\": -1.939805, \"y\": 1.412143, \"z\": 1.540886}, \"fontSize\": 14, \"backgroundColor\": \"black\", \"fontColor\": \"white\"});\n\tviewer_17203714620394554.addLabel(\"19\",{\"position\": {\"x\": -1.055433, \"y\": 2.953913, \"z\": 1.310731}, \"fontSize\": 14, \"backgroundColor\": \"black\", \"fontColor\": \"white\"});\n\tviewer_17203714620394554.addLabel(\"20\",{\"position\": {\"x\": -0.542416, \"y\": -1.133296, \"z\": 0.161438}, \"fontSize\": 14, \"backgroundColor\": \"black\", \"fontColor\": \"white\"});\n\tviewer_17203714620394554.addLabel(\"21\",{\"position\": {\"x\": -0.184057, \"y\": -1.940318, \"z\": -0.659466}, \"fontSize\": 14, \"backgroundColor\": \"black\", \"fontColor\": \"white\"});\n\tviewer_17203714620394554.addLabel(\"22\",{\"position\": {\"x\": -1.834546, \"y\": -0.875464, \"z\": 0.432877}, \"fontSize\": 14, \"backgroundColor\": \"black\", \"fontColor\": \"white\"});\n\tviewer_17203714620394554.addLabel(\"23\",{\"position\": {\"x\": -2.74415, \"y\": -1.296049, \"z\": -0.580264}, \"fontSize\": 14, \"backgroundColor\": \"black\", \"fontColor\": \"white\"});\n\tviewer_17203714620394554.addLabel(\"24\",{\"position\": {\"x\": -3.7304, \"y\": -0.972391, \"z\": -0.250265}, \"fontSize\": 14, \"backgroundColor\": \"black\", \"fontColor\": \"white\"});\n\tviewer_17203714620394554.addLabel(\"25\",{\"position\": {\"x\": -2.482002, \"y\": -0.812462, \"z\": -1.525024}, \"fontSize\": 14, \"backgroundColor\": \"black\", \"fontColor\": \"white\"});\n\tviewer_17203714620394554.addLabel(\"26\",{\"position\": {\"x\": -2.71596, \"y\": -2.379718, \"z\": -0.707558}, \"fontSize\": 14, \"backgroundColor\": \"black\", \"fontColor\": \"white\"});\n\tviewer_17203714620394554.zoomTo();\nviewer_17203714620394554.render();\n});\n</script>",
            "text/html": [
              "<div id=\"3dmolviewer_17203714620394554\"  style=\"position: relative; width: 550px; height: 550px;\">\n",
              "        <p id=\"3dmolwarning_17203714620394554\" style=\"background-color:#ffcccc;color:black\">3Dmol.js failed to load for some reason.  Please check your browser console for error messages.<br></p>\n",
              "        </div>\n",
              "<script>\n",
              "\n",
              "var loadScriptAsync = function(uri){\n",
              "  return new Promise((resolve, reject) => {\n",
              "    //this is to ignore the existence of requirejs amd\n",
              "    var savedexports, savedmodule;\n",
              "    if (typeof exports !== 'undefined') savedexports = exports;\n",
              "    else exports = {}\n",
              "    if (typeof module !== 'undefined') savedmodule = module;\n",
              "    else module = {}\n",
              "\n",
              "    var tag = document.createElement('script');\n",
              "    tag.src = uri;\n",
              "    tag.async = true;\n",
              "    tag.onload = () => {\n",
              "        exports = savedexports;\n",
              "        module = savedmodule;\n",
              "        resolve();\n",
              "    };\n",
              "  var firstScriptTag = document.getElementsByTagName('script')[0];\n",
              "  firstScriptTag.parentNode.insertBefore(tag, firstScriptTag);\n",
              "});\n",
              "};\n",
              "\n",
              "if(typeof $3Dmolpromise === 'undefined') {\n",
              "$3Dmolpromise = null;\n",
              "  $3Dmolpromise = loadScriptAsync('https://cdnjs.cloudflare.com/ajax/libs/3Dmol/2.2.0/3Dmol-min.js');\n",
              "}\n",
              "\n",
              "var viewer_17203714620394554 = null;\n",
              "var warn = document.getElementById(\"3dmolwarning_17203714620394554\");\n",
              "if(warn) {\n",
              "    warn.parentNode.removeChild(warn);\n",
              "}\n",
              "$3Dmolpromise.then(function() {\n",
              "viewer_17203714620394554 = $3Dmol.createViewer(document.getElementById(\"3dmolviewer_17203714620394554\"),{backgroundColor:\"white\"});\n",
              "viewer_17203714620394554.zoomTo();\n",
              "\tviewer_17203714620394554.removeAllModels();\n",
              "\tviewer_17203714620394554.addModel(\"\\n     RDKit          3D\\n\\n 26 26  0  0  0  0  0  0  0  0999 V2000\\n    1.1121    0.9001   -1.1988 C   0  0  0  0  0  0  0  0  0  0  0  0\\n    2.3281    0.3681   -1.1128 C   0  0  0  0  0  0  0  0  0  0  0  0\\n    0.3564    1.1408    0.0753 C   0  0  2  0  0  0  0  0  0  0  0  0\\n    0.6165    1.1514   -2.1314 H   0  0  0  0  0  0  0  0  0  0  0  0\\n    2.8494    0.0510    0.2623 C   0  0  0  0  0  0  0  0  0  0  0  0\\n    2.9225    0.1463   -1.9937 H   0  0  0  0  0  0  0  0  0  0  0  0\\n    0.3610   -0.1870    0.9201 C   0  0  2  0  0  0  0  0  0  0  0  0\\n    1.7936   -0.7447    1.0634 C   0  0  0  0  0  0  0  0  0  0  0  0\\n    3.0737    0.9879    0.7924 H   0  0  0  0  0  0  0  0  0  0  0  0\\n    3.7835   -0.5148    0.2227 H   0  0  0  0  0  0  0  0  0  0  0  0\\n    2.0804   -0.7716    2.1184 H   0  0  0  0  0  0  0  0  0  0  0  0\\n    1.7930   -1.7728    0.6929 H   0  0  0  0  0  0  0  0  0  0  0  0\\n    0.8758    1.8999    0.6895 H   0  0  0  0  0  0  0  0  0  0  0  0\\n   -0.0925    0.0175    1.8945 H   0  0  0  0  0  0  0  0  0  0  0  0\\n   -0.9226    1.6124   -0.2639 O   0  0  0  0  0  0  0  0  0  0  0  0\\n   -1.6431    2.1718    0.8081 C   0  0  0  0  0  0  0  0  0  0  0  0\\n   -2.5421    2.6221    0.3831 H   0  0  0  0  0  0  0  0  0  0  0  0\\n   -1.9398    1.4121    1.5409 H   0  0  0  0  0  0  0  0  0  0  0  0\\n   -1.0554    2.9539    1.3107 H   0  0  0  0  0  0  0  0  0  0  0  0\\n   -0.5424   -1.1333    0.1614 C   0  0  0  0  0  0  0  0  0  0  0  0\\n   -0.1841   -1.9403   -0.6595 O   0  0  0  0  0  0  0  0  0  0  0  0\\n   -1.8345   -0.8755    0.4329 O   0  0  0  0  0  0  0  0  0  0  0  0\\n   -2.7441   -1.2960   -0.5803 C   0  0  0  0  0  0  0  0  0  0  0  0\\n   -3.7304   -0.9724   -0.2503 H   0  0  0  0  0  0  0  0  0  0  0  0\\n   -2.4820   -0.8125   -1.5250 H   0  0  0  0  0  0  0  0  0  0  0  0\\n   -2.7160   -2.3797   -0.7076 H   0  0  0  0  0  0  0  0  0  0  0  0\\n  2  1  2  0\\n  3  1  1  0\\n  4  1  1  0\\n  5  2  1  0\\n  6  2  1  0\\n  7  3  1  0\\n  8  7  1  0\\n  8  5  1  0\\n  9  5  1  0\\n 10  5  1  0\\n 11  8  1  0\\n 12  8  1  0\\n  3 13  1  1\\n  7 14  1  1\\n 15  3  1  0\\n 16 15  1  0\\n 17 16  1  0\\n 18 16  1  0\\n 19 16  1  0\\n 20  7  1  0\\n 21 20  2  0\\n 22 20  1  0\\n 23 22  1  0\\n 24 23  1  0\\n 25 23  1  0\\n 26 23  1  0\\nM  END\\n\",\"sdf\");\n",
              "\tviewer_17203714620394554.setStyle({\"stick\": {}});\n",
              "\tviewer_17203714620394554.setBackgroundColor(\"0xeeeeee\");\n",
              "\tviewer_17203714620394554.addLabel(\" 1\",{\"position\": {\"x\": 1.112127, \"y\": 0.900142, \"z\": -1.198832}, \"fontSize\": 14, \"backgroundColor\": \"black\", \"fontColor\": \"white\"});\n",
              "\tviewer_17203714620394554.addLabel(\" 2\",{\"position\": {\"x\": 2.328134, \"y\": 0.368096, \"z\": -1.112842}, \"fontSize\": 14, \"backgroundColor\": \"black\", \"fontColor\": \"white\"});\n",
              "\tviewer_17203714620394554.addLabel(\" 3\",{\"position\": {\"x\": 0.356371, \"y\": 1.140767, \"z\": 0.075338}, \"fontSize\": 14, \"backgroundColor\": \"black\", \"fontColor\": \"white\"});\n",
              "\tviewer_17203714620394554.addLabel(\" 4\",{\"position\": {\"x\": 0.616481, \"y\": 1.151395, \"z\": -2.131395}, \"fontSize\": 14, \"backgroundColor\": \"black\", \"fontColor\": \"white\"});\n",
              "\tviewer_17203714620394554.addLabel(\" 5\",{\"position\": {\"x\": 2.849366, \"y\": 0.050967, \"z\": 0.262267}, \"fontSize\": 14, \"backgroundColor\": \"black\", \"fontColor\": \"white\"});\n",
              "\tviewer_17203714620394554.addLabel(\" 6\",{\"position\": {\"x\": 2.922486, \"y\": 0.146269, \"z\": -1.99374}, \"fontSize\": 14, \"backgroundColor\": \"black\", \"fontColor\": \"white\"});\n",
              "\tviewer_17203714620394554.addLabel(\" 7\",{\"position\": {\"x\": 0.361021, \"y\": -0.186957, \"z\": 0.920131}, \"fontSize\": 14, \"backgroundColor\": \"black\", \"fontColor\": \"white\"});\n",
              "\tviewer_17203714620394554.addLabel(\" 8\",{\"position\": {\"x\": 1.793628, \"y\": -0.744684, \"z\": 1.063384}, \"fontSize\": 14, \"backgroundColor\": \"black\", \"fontColor\": \"white\"});\n",
              "\tviewer_17203714620394554.addLabel(\" 9\",{\"position\": {\"x\": 3.073715, \"y\": 0.987869, \"z\": 0.792373}, \"fontSize\": 14, \"backgroundColor\": \"black\", \"fontColor\": \"white\"});\n",
              "\tviewer_17203714620394554.addLabel(\"10\",{\"position\": {\"x\": 3.78352, \"y\": -0.514792, \"z\": 0.222706}, \"fontSize\": 14, \"backgroundColor\": \"black\", \"fontColor\": \"white\"});\n",
              "\tviewer_17203714620394554.addLabel(\"11\",{\"position\": {\"x\": 2.080352, \"y\": -0.771552, \"z\": 2.118446}, \"fontSize\": 14, \"backgroundColor\": \"black\", \"fontColor\": \"white\"});\n",
              "\tviewer_17203714620394554.addLabel(\"12\",{\"position\": {\"x\": 1.793042, \"y\": -1.772808, \"z\": 0.692898}, \"fontSize\": 14, \"backgroundColor\": \"black\", \"fontColor\": \"white\"});\n",
              "\tviewer_17203714620394554.addLabel(\"13\",{\"position\": {\"x\": 0.875767, \"y\": 1.899888, \"z\": 0.689473}, \"fontSize\": 14, \"backgroundColor\": \"black\", \"fontColor\": \"white\"});\n",
              "\tviewer_17203714620394554.addLabel(\"14\",{\"position\": {\"x\": -0.092523, \"y\": 0.017501, \"z\": 1.894465}, \"fontSize\": 14, \"backgroundColor\": \"black\", \"fontColor\": \"white\"});\n",
              "\tviewer_17203714620394554.addLabel(\"15\",{\"position\": {\"x\": -0.922576, \"y\": 1.612397, \"z\": -0.263917}, \"fontSize\": 14, \"backgroundColor\": \"black\", \"fontColor\": \"white\"});\n",
              "\tviewer_17203714620394554.addLabel(\"16\",{\"position\": {\"x\": -1.643068, \"y\": 2.171816, \"z\": 0.808108}, \"fontSize\": 14, \"backgroundColor\": \"black\", \"fontColor\": \"white\"});\n",
              "\tviewer_17203714620394554.addLabel(\"17\",{\"position\": {\"x\": -2.542088, \"y\": 2.622118, \"z\": 0.383072}, \"fontSize\": 14, \"backgroundColor\": \"black\", \"fontColor\": \"white\"});\n",
              "\tviewer_17203714620394554.addLabel(\"18\",{\"position\": {\"x\": -1.939805, \"y\": 1.412143, \"z\": 1.540886}, \"fontSize\": 14, \"backgroundColor\": \"black\", \"fontColor\": \"white\"});\n",
              "\tviewer_17203714620394554.addLabel(\"19\",{\"position\": {\"x\": -1.055433, \"y\": 2.953913, \"z\": 1.310731}, \"fontSize\": 14, \"backgroundColor\": \"black\", \"fontColor\": \"white\"});\n",
              "\tviewer_17203714620394554.addLabel(\"20\",{\"position\": {\"x\": -0.542416, \"y\": -1.133296, \"z\": 0.161438}, \"fontSize\": 14, \"backgroundColor\": \"black\", \"fontColor\": \"white\"});\n",
              "\tviewer_17203714620394554.addLabel(\"21\",{\"position\": {\"x\": -0.184057, \"y\": -1.940318, \"z\": -0.659466}, \"fontSize\": 14, \"backgroundColor\": \"black\", \"fontColor\": \"white\"});\n",
              "\tviewer_17203714620394554.addLabel(\"22\",{\"position\": {\"x\": -1.834546, \"y\": -0.875464, \"z\": 0.432877}, \"fontSize\": 14, \"backgroundColor\": \"black\", \"fontColor\": \"white\"});\n",
              "\tviewer_17203714620394554.addLabel(\"23\",{\"position\": {\"x\": -2.74415, \"y\": -1.296049, \"z\": -0.580264}, \"fontSize\": 14, \"backgroundColor\": \"black\", \"fontColor\": \"white\"});\n",
              "\tviewer_17203714620394554.addLabel(\"24\",{\"position\": {\"x\": -3.7304, \"y\": -0.972391, \"z\": -0.250265}, \"fontSize\": 14, \"backgroundColor\": \"black\", \"fontColor\": \"white\"});\n",
              "\tviewer_17203714620394554.addLabel(\"25\",{\"position\": {\"x\": -2.482002, \"y\": -0.812462, \"z\": -1.525024}, \"fontSize\": 14, \"backgroundColor\": \"black\", \"fontColor\": \"white\"});\n",
              "\tviewer_17203714620394554.addLabel(\"26\",{\"position\": {\"x\": -2.71596, \"y\": -2.379718, \"z\": -0.707558}, \"fontSize\": 14, \"backgroundColor\": \"black\", \"fontColor\": \"white\"});\n",
              "\tviewer_17203714620394554.zoomTo();\n",
              "viewer_17203714620394554.render();\n",
              "});\n",
              "</script>"
            ]
          },
          "metadata": {},
          "output_type": "display_data"
        }
      ],
      "source": [
        "# last xyz in traj --> idx = -1\n",
        "draw_xyz(\"DA.xyz\", idx=-1)"
      ]
    },
    {
      "cell_type": "code",
      "execution_count": 15,
      "metadata": {
        "colab": {
          "base_uri": "https://localhost:8080/",
          "height": 466
        },
        "id": "Nnxy_tXgSV1n",
        "outputId": "424327ce-372c-4947-98a4-408370f5963c"
      },
      "outputs": [
        {
          "name": "stdout",
          "output_type": "stream",
          "text": [
            "\u001b[34mProcessing . . .  \n",
            "  32.67%  |======>              |  33 / 101\u001b[0m\n",
            "\n",
            "Optimizer : optimizing diene\n",
            "      Step     Time          Energy          fmax\n",
            "BFGS:    0 17:10:59    -8334.977585        4.664043\n",
            "BFGS:    1 17:11:03    -8335.130542        3.553742\n",
            "BFGS:    2 17:11:07    -8335.253964        0.432964\n",
            "BFGS:    3 17:11:07    -8335.263651        0.318799\n",
            "BFGS:    4 17:11:07    -8335.281570        0.439124\n",
            "BFGS:    5 17:11:07    -8335.295279        0.310533\n",
            "BFGS:    6 17:11:07    -8335.302430        0.272757\n"
          ]
        },
        {
          "ename": "KeyboardInterrupt",
          "evalue": "",
          "output_type": "error",
          "traceback": [
            "\u001b[0;31m---------------------------------------------------------------------------\u001b[0m",
            "\u001b[0;31mKeyboardInterrupt\u001b[0m                         Traceback (most recent call last)",
            "Cell \u001b[0;32mIn[15], line 14\u001b[0m\n\u001b[1;32m     10\u001b[0m relative_idx\u001b[38;5;241m=\u001b[39m\u001b[38;5;241m0\u001b[39m                        \u001b[38;5;66;03m# relative energy reference\u001b[39;00m\n\u001b[1;32m     11\u001b[0m unit\u001b[38;5;241m=\u001b[39m\u001b[38;5;124m\"\u001b[39m\u001b[38;5;124mHartree\u001b[39m\u001b[38;5;124m\"\u001b[39m                        \u001b[38;5;66;03m# energy unit -- HArTrEe harTREE both possible\u001b[39;00m\n\u001b[0;32m---> 14\u001b[0m \u001b[43maimDIAS_run\u001b[49m\u001b[43m(\u001b[49m\u001b[43mtrajFile\u001b[49m\u001b[38;5;241;43m=\u001b[39;49m\u001b[38;5;124;43m\"\u001b[39;49m\u001b[38;5;124;43mDA.xyz\u001b[39;49m\u001b[38;5;124;43m\"\u001b[39;49m\u001b[43m,\u001b[49m\n\u001b[1;32m     15\u001b[0m \u001b[43m            \u001b[49m\u001b[43mfragments_params\u001b[49m\u001b[38;5;241;43m=\u001b[39;49m\u001b[43mfp_DA\u001b[49m\u001b[43m,\u001b[49m\n\u001b[1;32m     16\u001b[0m \u001b[43m            \u001b[49m\u001b[43minclude_fragments\u001b[49m\u001b[38;5;241;43m=\u001b[39;49m\u001b[43minclude_fragments\u001b[49m\u001b[43m,\u001b[49m\n\u001b[1;32m     17\u001b[0m \u001b[43m            \u001b[49m\u001b[43mrelative_idx\u001b[49m\u001b[38;5;241;43m=\u001b[39;49m\u001b[43mrelative_idx\u001b[49m\u001b[43m,\u001b[49m\n\u001b[1;32m     18\u001b[0m \u001b[43m            \u001b[49m\u001b[43munit\u001b[49m\u001b[38;5;241;43m=\u001b[39;49m\u001b[43munit\u001b[49m\u001b[43m,\u001b[49m\n\u001b[1;32m     19\u001b[0m \u001b[43m            \u001b[49m\u001b[43mresultSavePath\u001b[49m\u001b[38;5;241;43m=\u001b[39;49m\u001b[43mresultSavePath\u001b[49m\u001b[43m,\u001b[49m\n\u001b[1;32m     20\u001b[0m \u001b[43m            \u001b[49m\u001b[43mCalculator\u001b[49m\u001b[38;5;241;43m=\u001b[39;49m\u001b[43mcalc\u001b[49m\u001b[43m)\u001b[49m\n\u001b[1;32m     22\u001b[0m \u001b[38;5;66;03m# Runtime: only ~30 mins for Diels Alder D/I analysis(n_frags=2) with 101 IRC points\u001b[39;00m\n",
            "File \u001b[0;32m/workspaces/ML-dias/aimDIAS/DIAS.py:691\u001b[0m, in \u001b[0;36maimDIAS_run\u001b[0;34m(trajFile, fragments_params, Calculator, mode, DIAresultPath, axis_type, geo_param, unit, include_fragments, relative_idx, plot_highlights, resultSavePath, horizontal_line, save_kws)\u001b[0m\n\u001b[1;32m    689\u001b[0m     \u001b[38;5;28mprint\u001b[39m(\u001b[38;5;124mf\u001b[39m\u001b[38;5;124m\"\u001b[39m\u001b[38;5;130;01m\\033\u001b[39;00m\u001b[38;5;124m[91m\u001b[39m\u001b[38;5;132;01m{\u001b[39;00mwarning_msg\u001b[38;5;132;01m}\u001b[39;00m\u001b[38;5;130;01m\\033\u001b[39;00m\u001b[38;5;124m[0m\u001b[39m\u001b[38;5;124m\"\u001b[39m)\n\u001b[1;32m    690\u001b[0m   \u001b[38;5;66;03m# run DIAS\u001b[39;00m\n\u001b[0;32m--> 691\u001b[0m   DIASresult \u001b[38;5;241m=\u001b[39m \u001b[43mtrajDIAS\u001b[49m\u001b[43m(\u001b[49m\u001b[43mCalculator\u001b[49m\u001b[38;5;241;43m=\u001b[39;49m\u001b[43mCalculator\u001b[49m\u001b[43m,\u001b[49m\u001b[43m \u001b[49m\u001b[43mtrajFile\u001b[49m\u001b[38;5;241;43m=\u001b[39;49m\u001b[43mtrajFile\u001b[49m\u001b[43m,\u001b[49m\u001b[43m \u001b[49m\u001b[43mfragments_params\u001b[49m\u001b[38;5;241;43m=\u001b[39;49m\u001b[43mfragments_params\u001b[49m\u001b[43m,\u001b[49m\u001b[43m \u001b[49m\u001b[43mresultSavePath\u001b[49m\u001b[38;5;241;43m=\u001b[39;49m\u001b[43mresultSavePath\u001b[49m\u001b[43m,\u001b[49m\u001b[43m \u001b[49m\u001b[43msave_kws\u001b[49m\u001b[38;5;241;43m=\u001b[39;49m\u001b[43msave_kws\u001b[49m\u001b[43m)\u001b[49m\n\u001b[1;32m    693\u001b[0m \u001b[38;5;28;01melif\u001b[39;00m mode \u001b[38;5;241m==\u001b[39m \u001b[38;5;124m\"\u001b[39m\u001b[38;5;124mplot\u001b[39m\u001b[38;5;124m\"\u001b[39m:\n\u001b[1;32m    694\u001b[0m   \u001b[38;5;28;01mif\u001b[39;00m DIAresultPath \u001b[38;5;241m==\u001b[39m \u001b[38;5;28;01mNone\u001b[39;00m:\n",
            "File \u001b[0;32m/workspaces/ML-dias/aimDIAS/DIAS.py:485\u001b[0m, in \u001b[0;36mtrajDIAS\u001b[0;34m(trajFile, fragments_params, Calculator, resultSavePath, save_kws)\u001b[0m\n\u001b[1;32m    483\u001b[0m \u001b[38;5;28;01mfor\u001b[39;00m IRC_idx, xyzString \u001b[38;5;129;01min\u001b[39;00m \u001b[38;5;28menumerate\u001b[39m(read_traj(trajFile, returnString\u001b[38;5;241m=\u001b[39m\u001b[38;5;28;01mTrue\u001b[39;00m)):\n\u001b[1;32m    484\u001b[0m   progress_bar(trajNum, IRC_idx)\n\u001b[0;32m--> 485\u001b[0m   trajDIASresult[IRC_idx] \u001b[38;5;241m=\u001b[39m \u001b[43mDIAS\u001b[49m\u001b[43m(\u001b[49m\u001b[43mxyzString\u001b[49m\u001b[43m,\u001b[49m\u001b[43m \u001b[49m\u001b[43mCalculator\u001b[49m\u001b[38;5;241;43m=\u001b[39;49m\u001b[43mCalculator\u001b[49m\u001b[43m,\u001b[49m\u001b[43m \u001b[49m\u001b[43mfragments_params\u001b[49m\u001b[43m \u001b[49m\u001b[38;5;241;43m=\u001b[39;49m\u001b[43m \u001b[49m\u001b[43mfragments_params\u001b[49m\u001b[43m,\u001b[49m\u001b[43m \u001b[49m\u001b[43mclear_log\u001b[49m\u001b[38;5;241;43m=\u001b[39;49m\u001b[38;5;28;43;01mTrue\u001b[39;49;00m\u001b[43m)\u001b[49m\n\u001b[1;32m    486\u001b[0m json_dump(trajDIASresult\u001b[38;5;241m=\u001b[39mtrajDIASresult, trajFile\u001b[38;5;241m=\u001b[39mtrajFile, resultSavePath\u001b[38;5;241m=\u001b[39mresultSavePath, \u001b[38;5;241m*\u001b[39m\u001b[38;5;241m*\u001b[39msave_kws)\n\u001b[1;32m    487\u001b[0m \u001b[38;5;28mprint\u001b[39m(\u001b[38;5;124m\"\u001b[39m\u001b[38;5;124maimDIAS CALCULATION TERMINATED NORMALLY\u001b[39m\u001b[38;5;124m\"\u001b[39m)\n",
            "File \u001b[0;32m/workspaces/ML-dias/aimDIAS/DIAS.py:395\u001b[0m, in \u001b[0;36mDIAS\u001b[0;34m(xyzString, fragments_params, Calculator, clear_log)\u001b[0m\n\u001b[1;32m    393\u001b[0m pre_optimized_Energy \u001b[38;5;241m=\u001b[39m potential_energy(Calculator\u001b[38;5;241m=\u001b[39mCalculator, fragment\u001b[38;5;241m=\u001b[39mfrag)\n\u001b[1;32m    394\u001b[0m \u001b[38;5;28mprint\u001b[39m(\u001b[38;5;124mf\u001b[39m\u001b[38;5;124m\"\u001b[39m\u001b[38;5;130;01m\\n\u001b[39;00m\u001b[38;5;124mOptimizer : optimizing \u001b[39m\u001b[38;5;132;01m{\u001b[39;00mname\u001b[38;5;132;01m}\u001b[39;00m\u001b[38;5;124m\"\u001b[39m)\n\u001b[0;32m--> 395\u001b[0m \u001b[43mOptimize\u001b[49m\u001b[43m(\u001b[49m\u001b[43mCalculator\u001b[49m\u001b[38;5;241;43m=\u001b[39;49m\u001b[43mCalculator\u001b[49m\u001b[43m,\u001b[49m\u001b[43m \u001b[49m\u001b[43mfragment\u001b[49m\u001b[38;5;241;43m=\u001b[39;49m\u001b[43mfrag\u001b[49m\u001b[43m,\u001b[49m\u001b[43m \u001b[49m\u001b[43mclear_log\u001b[49m\u001b[38;5;241;43m=\u001b[39;49m\u001b[38;5;28;43;01mFalse\u001b[39;49;00m\u001b[43m)\u001b[49m\n\u001b[1;32m    396\u001b[0m optimized_Energy \u001b[38;5;241m=\u001b[39m potential_energy(Calculator\u001b[38;5;241m=\u001b[39mCalculator, fragment\u001b[38;5;241m=\u001b[39mfrag)\n\u001b[1;32m    397\u001b[0m fragDistortion \u001b[38;5;241m=\u001b[39m pre_optimized_Energy \u001b[38;5;241m-\u001b[39m optimized_Energy \u001b[38;5;66;03m# eV unit\u001b[39;00m\n",
            "File \u001b[0;32m/workspaces/ML-dias/aimDIAS/DIAS.py:212\u001b[0m, in \u001b[0;36mOptimize\u001b[0;34m(fragment, Calculator, fmax, steps, clear_log)\u001b[0m\n\u001b[1;32m    210\u001b[0m fragment\u001b[38;5;241m.\u001b[39mset_calculator(Calculator())\n\u001b[1;32m    211\u001b[0m optimize \u001b[38;5;241m=\u001b[39m BFGS(atoms\u001b[38;5;241m=\u001b[39mfragment)\n\u001b[0;32m--> 212\u001b[0m \u001b[43moptimize\u001b[49m\u001b[38;5;241;43m.\u001b[39;49m\u001b[43mrun\u001b[49m\u001b[43m(\u001b[49m\u001b[43mfmax\u001b[49m\u001b[38;5;241;43m=\u001b[39;49m\u001b[43mfmax\u001b[49m\u001b[43m,\u001b[49m\u001b[43m \u001b[49m\u001b[43msteps\u001b[49m\u001b[38;5;241;43m=\u001b[39;49m\u001b[43msteps\u001b[49m\u001b[43m)\u001b[49m\n\u001b[1;32m    214\u001b[0m \u001b[38;5;28;01mif\u001b[39;00m is_ipython \u001b[38;5;129;01mand\u001b[39;00m clear_log:\n\u001b[1;32m    215\u001b[0m   clear_output(wait\u001b[38;5;241m=\u001b[39m\u001b[38;5;28;01mTrue\u001b[39;00m)\n",
            "File \u001b[0;32m~/.python/current/lib/python3.10/site-packages/ase/optimize/optimize.py:430\u001b[0m, in \u001b[0;36mOptimizer.run\u001b[0;34m(self, fmax, steps)\u001b[0m\n\u001b[1;32m    415\u001b[0m \u001b[38;5;250m\u001b[39m\u001b[38;5;124;03m\"\"\"Run optimizer.\u001b[39;00m\n\u001b[1;32m    416\u001b[0m \n\u001b[1;32m    417\u001b[0m \u001b[38;5;124;03mParameters\u001b[39;00m\n\u001b[0;32m   (...)\u001b[0m\n\u001b[1;32m    427\u001b[0m \u001b[38;5;124;03m    True if the forces on atoms are converged.\u001b[39;00m\n\u001b[1;32m    428\u001b[0m \u001b[38;5;124;03m\"\"\"\u001b[39;00m\n\u001b[1;32m    429\u001b[0m \u001b[38;5;28mself\u001b[39m\u001b[38;5;241m.\u001b[39mfmax \u001b[38;5;241m=\u001b[39m fmax\n\u001b[0;32m--> 430\u001b[0m \u001b[38;5;28;01mreturn\u001b[39;00m \u001b[43mDynamics\u001b[49m\u001b[38;5;241;43m.\u001b[39;49m\u001b[43mrun\u001b[49m\u001b[43m(\u001b[49m\u001b[38;5;28;43mself\u001b[39;49m\u001b[43m,\u001b[49m\u001b[43m \u001b[49m\u001b[43msteps\u001b[49m\u001b[38;5;241;43m=\u001b[39;49m\u001b[43msteps\u001b[49m\u001b[43m)\u001b[49m\n",
            "File \u001b[0;32m~/.python/current/lib/python3.10/site-packages/ase/optimize/optimize.py:275\u001b[0m, in \u001b[0;36mDynamics.run\u001b[0;34m(self, steps)\u001b[0m\n\u001b[1;32m    257\u001b[0m \u001b[38;5;28;01mdef\u001b[39;00m \u001b[38;5;21mrun\u001b[39m(\u001b[38;5;28mself\u001b[39m, steps\u001b[38;5;241m=\u001b[39mDEFAULT_MAX_STEPS):\n\u001b[1;32m    258\u001b[0m \u001b[38;5;250m    \u001b[39m\u001b[38;5;124;03m\"\"\"Run dynamics algorithm.\u001b[39;00m\n\u001b[1;32m    259\u001b[0m \n\u001b[1;32m    260\u001b[0m \u001b[38;5;124;03m    This method will return when the forces on all individual\u001b[39;00m\n\u001b[0;32m   (...)\u001b[0m\n\u001b[1;32m    272\u001b[0m \u001b[38;5;124;03m        True if the forces on atoms are converged.\u001b[39;00m\n\u001b[1;32m    273\u001b[0m \u001b[38;5;124;03m    \"\"\"\u001b[39;00m\n\u001b[0;32m--> 275\u001b[0m     \u001b[38;5;28;01mfor\u001b[39;00m converged \u001b[38;5;129;01min\u001b[39;00m Dynamics\u001b[38;5;241m.\u001b[39mirun(\u001b[38;5;28mself\u001b[39m, steps\u001b[38;5;241m=\u001b[39msteps):\n\u001b[1;32m    276\u001b[0m         \u001b[38;5;28;01mpass\u001b[39;00m\n\u001b[1;32m    277\u001b[0m     \u001b[38;5;28;01mreturn\u001b[39;00m converged\n",
            "File \u001b[0;32m~/.python/current/lib/python3.10/site-packages/ase/optimize/optimize.py:250\u001b[0m, in \u001b[0;36mDynamics.irun\u001b[0;34m(self, steps)\u001b[0m\n\u001b[1;32m    247\u001b[0m \u001b[38;5;28mself\u001b[39m\u001b[38;5;241m.\u001b[39mnsteps \u001b[38;5;241m+\u001b[39m\u001b[38;5;241m=\u001b[39m \u001b[38;5;241m1\u001b[39m\n\u001b[1;32m    249\u001b[0m \u001b[38;5;66;03m# log the step\u001b[39;00m\n\u001b[0;32m--> 250\u001b[0m \u001b[38;5;28;43mself\u001b[39;49m\u001b[38;5;241;43m.\u001b[39;49m\u001b[43mlog\u001b[49m\u001b[43m(\u001b[49m\u001b[43m)\u001b[49m\n\u001b[1;32m    251\u001b[0m \u001b[38;5;28mself\u001b[39m\u001b[38;5;241m.\u001b[39mcall_observers()\n\u001b[1;32m    253\u001b[0m \u001b[38;5;66;03m# check convergence\u001b[39;00m\n",
            "File \u001b[0;32m~/.python/current/lib/python3.10/site-packages/ase/optimize/optimize.py:440\u001b[0m, in \u001b[0;36mOptimizer.log\u001b[0;34m(self, forces)\u001b[0m\n\u001b[1;32m    438\u001b[0m \u001b[38;5;28;01mdef\u001b[39;00m \u001b[38;5;21mlog\u001b[39m(\u001b[38;5;28mself\u001b[39m, forces\u001b[38;5;241m=\u001b[39m\u001b[38;5;28;01mNone\u001b[39;00m):\n\u001b[1;32m    439\u001b[0m     \u001b[38;5;28;01mif\u001b[39;00m forces \u001b[38;5;129;01mis\u001b[39;00m \u001b[38;5;28;01mNone\u001b[39;00m:\n\u001b[0;32m--> 440\u001b[0m         forces \u001b[38;5;241m=\u001b[39m \u001b[38;5;28;43mself\u001b[39;49m\u001b[38;5;241;43m.\u001b[39;49m\u001b[43moptimizable\u001b[49m\u001b[38;5;241;43m.\u001b[39;49m\u001b[43mget_forces\u001b[49m\u001b[43m(\u001b[49m\u001b[43m)\u001b[49m\n\u001b[1;32m    441\u001b[0m     fmax \u001b[38;5;241m=\u001b[39m sqrt((forces \u001b[38;5;241m*\u001b[39m\u001b[38;5;241m*\u001b[39m \u001b[38;5;241m2\u001b[39m)\u001b[38;5;241m.\u001b[39msum(axis\u001b[38;5;241m=\u001b[39m\u001b[38;5;241m1\u001b[39m)\u001b[38;5;241m.\u001b[39mmax())\n\u001b[1;32m    442\u001b[0m     e \u001b[38;5;241m=\u001b[39m \u001b[38;5;28mself\u001b[39m\u001b[38;5;241m.\u001b[39moptimizable\u001b[38;5;241m.\u001b[39mget_potential_energy()\n",
            "File \u001b[0;32m~/.python/current/lib/python3.10/site-packages/ase/optimize/optimize.py:34\u001b[0m, in \u001b[0;36mOptimizableAtoms.get_forces\u001b[0;34m(self)\u001b[0m\n\u001b[1;32m     33\u001b[0m \u001b[38;5;28;01mdef\u001b[39;00m \u001b[38;5;21mget_forces\u001b[39m(\u001b[38;5;28mself\u001b[39m):\n\u001b[0;32m---> 34\u001b[0m     \u001b[38;5;28;01mreturn\u001b[39;00m \u001b[38;5;28;43mself\u001b[39;49m\u001b[38;5;241;43m.\u001b[39;49m\u001b[43matoms\u001b[49m\u001b[38;5;241;43m.\u001b[39;49m\u001b[43mget_forces\u001b[49m\u001b[43m(\u001b[49m\u001b[43m)\u001b[49m\n",
            "File \u001b[0;32m~/.python/current/lib/python3.10/site-packages/ase/atoms.py:812\u001b[0m, in \u001b[0;36mAtoms.get_forces\u001b[0;34m(self, apply_constraint, md)\u001b[0m\n\u001b[1;32m    810\u001b[0m \u001b[38;5;28;01mif\u001b[39;00m \u001b[38;5;28mself\u001b[39m\u001b[38;5;241m.\u001b[39m_calc \u001b[38;5;129;01mis\u001b[39;00m \u001b[38;5;28;01mNone\u001b[39;00m:\n\u001b[1;32m    811\u001b[0m     \u001b[38;5;28;01mraise\u001b[39;00m \u001b[38;5;167;01mRuntimeError\u001b[39;00m(\u001b[38;5;124m'\u001b[39m\u001b[38;5;124mAtoms object has no calculator.\u001b[39m\u001b[38;5;124m'\u001b[39m)\n\u001b[0;32m--> 812\u001b[0m forces \u001b[38;5;241m=\u001b[39m \u001b[38;5;28;43mself\u001b[39;49m\u001b[38;5;241;43m.\u001b[39;49m\u001b[43m_calc\u001b[49m\u001b[38;5;241;43m.\u001b[39;49m\u001b[43mget_forces\u001b[49m\u001b[43m(\u001b[49m\u001b[38;5;28;43mself\u001b[39;49m\u001b[43m)\u001b[49m\n\u001b[1;32m    814\u001b[0m \u001b[38;5;28;01mif\u001b[39;00m apply_constraint:\n\u001b[1;32m    815\u001b[0m     \u001b[38;5;66;03m# We need a special md flag here because for MD we want\u001b[39;00m\n\u001b[1;32m    816\u001b[0m     \u001b[38;5;66;03m# to skip real constraints but include special \"constraints\"\u001b[39;00m\n\u001b[1;32m    817\u001b[0m     \u001b[38;5;66;03m# Like Hookean.\u001b[39;00m\n\u001b[1;32m    818\u001b[0m     \u001b[38;5;28;01mfor\u001b[39;00m constraint \u001b[38;5;129;01min\u001b[39;00m \u001b[38;5;28mself\u001b[39m\u001b[38;5;241m.\u001b[39mconstraints:\n",
            "File \u001b[0;32m~/.python/current/lib/python3.10/site-packages/ase/calculators/abc.py:30\u001b[0m, in \u001b[0;36mGetPropertiesMixin.get_forces\u001b[0;34m(self, atoms)\u001b[0m\n\u001b[1;32m     29\u001b[0m \u001b[38;5;28;01mdef\u001b[39;00m \u001b[38;5;21mget_forces\u001b[39m(\u001b[38;5;28mself\u001b[39m, atoms\u001b[38;5;241m=\u001b[39m\u001b[38;5;28;01mNone\u001b[39;00m):\n\u001b[0;32m---> 30\u001b[0m     \u001b[38;5;28;01mreturn\u001b[39;00m \u001b[38;5;28;43mself\u001b[39;49m\u001b[38;5;241;43m.\u001b[39;49m\u001b[43mget_property\u001b[49m\u001b[43m(\u001b[49m\u001b[38;5;124;43m'\u001b[39;49m\u001b[38;5;124;43mforces\u001b[39;49m\u001b[38;5;124;43m'\u001b[39;49m\u001b[43m,\u001b[49m\u001b[43m \u001b[49m\u001b[43matoms\u001b[49m\u001b[43m)\u001b[49m\n",
            "File \u001b[0;32m~/.python/current/lib/python3.10/site-packages/ase/calculators/calculator.py:538\u001b[0m, in \u001b[0;36mBaseCalculator.get_property\u001b[0;34m(self, name, atoms, allow_calculation)\u001b[0m\n\u001b[1;32m    535\u001b[0m     \u001b[38;5;28;01mif\u001b[39;00m \u001b[38;5;28mself\u001b[39m\u001b[38;5;241m.\u001b[39muse_cache:\n\u001b[1;32m    536\u001b[0m         \u001b[38;5;28mself\u001b[39m\u001b[38;5;241m.\u001b[39matoms \u001b[38;5;241m=\u001b[39m atoms\u001b[38;5;241m.\u001b[39mcopy()\n\u001b[0;32m--> 538\u001b[0m     \u001b[38;5;28;43mself\u001b[39;49m\u001b[38;5;241;43m.\u001b[39;49m\u001b[43mcalculate\u001b[49m\u001b[43m(\u001b[49m\u001b[43matoms\u001b[49m\u001b[43m,\u001b[49m\u001b[43m \u001b[49m\u001b[43m[\u001b[49m\u001b[43mname\u001b[49m\u001b[43m]\u001b[49m\u001b[43m,\u001b[49m\u001b[43m \u001b[49m\u001b[43msystem_changes\u001b[49m\u001b[43m)\u001b[49m\n\u001b[1;32m    540\u001b[0m \u001b[38;5;28;01mif\u001b[39;00m name \u001b[38;5;129;01mnot\u001b[39;00m \u001b[38;5;129;01min\u001b[39;00m \u001b[38;5;28mself\u001b[39m\u001b[38;5;241m.\u001b[39mresults:\n\u001b[1;32m    541\u001b[0m     \u001b[38;5;66;03m# For some reason the calculator was not able to do what we want,\u001b[39;00m\n\u001b[1;32m    542\u001b[0m     \u001b[38;5;66;03m# and that is OK.\u001b[39;00m\n\u001b[1;32m    543\u001b[0m     \u001b[38;5;28;01mraise\u001b[39;00m PropertyNotImplementedError(\n\u001b[1;32m    544\u001b[0m         \u001b[38;5;124m'\u001b[39m\u001b[38;5;132;01m{}\u001b[39;00m\u001b[38;5;124m not present in this \u001b[39m\u001b[38;5;124m'\u001b[39m \u001b[38;5;124m'\u001b[39m\u001b[38;5;124mcalculation\u001b[39m\u001b[38;5;124m'\u001b[39m\u001b[38;5;241m.\u001b[39mformat(name)\n\u001b[1;32m    545\u001b[0m     )\n",
            "File \u001b[0;32m/workspaces/ML-dias/aimDIAS/aimnet2ase.py:67\u001b[0m, in \u001b[0;36mAIMNet2Calculator.calculate\u001b[0;34m(self, atoms, properties, system_changes)\u001b[0m\n\u001b[1;32m     65\u001b[0m _in \u001b[38;5;241m=\u001b[39m \u001b[38;5;28mself\u001b[39m\u001b[38;5;241m.\u001b[39m_make_input()\n\u001b[1;32m     66\u001b[0m do_forces \u001b[38;5;241m=\u001b[39m \u001b[38;5;124m'\u001b[39m\u001b[38;5;124mforces\u001b[39m\u001b[38;5;124m'\u001b[39m \u001b[38;5;129;01min\u001b[39;00m properties\n\u001b[0;32m---> 67\u001b[0m _out \u001b[38;5;241m=\u001b[39m  \u001b[38;5;28;43mself\u001b[39;49m\u001b[38;5;241;43m.\u001b[39;49m\u001b[43m_eval_model\u001b[49m\u001b[43m(\u001b[49m\u001b[43m_in\u001b[49m\u001b[43m,\u001b[49m\u001b[43m \u001b[49m\u001b[43mdo_forces\u001b[49m\u001b[43m)\u001b[49m\n\u001b[1;32m     69\u001b[0m \u001b[38;5;28mself\u001b[39m\u001b[38;5;241m.\u001b[39mresults[\u001b[38;5;124m'\u001b[39m\u001b[38;5;124menergy\u001b[39m\u001b[38;5;124m'\u001b[39m] \u001b[38;5;241m=\u001b[39m _out[\u001b[38;5;124m'\u001b[39m\u001b[38;5;124menergy\u001b[39m\u001b[38;5;124m'\u001b[39m]\n\u001b[1;32m     70\u001b[0m \u001b[38;5;28mself\u001b[39m\u001b[38;5;241m.\u001b[39mresults[\u001b[38;5;124m'\u001b[39m\u001b[38;5;124mcharges\u001b[39m\u001b[38;5;124m'\u001b[39m] \u001b[38;5;241m=\u001b[39m _out[\u001b[38;5;124m'\u001b[39m\u001b[38;5;124mcharges\u001b[39m\u001b[38;5;124m'\u001b[39m]\n",
            "File \u001b[0;32m/workspaces/ML-dias/aimDIAS/aimnet2ase.py:51\u001b[0m, in \u001b[0;36mAIMNet2Calculator._eval_model\u001b[0;34m(self, d, forces)\u001b[0m\n\u001b[1;32m     49\u001b[0m \u001b[38;5;28;01mif\u001b[39;00m forces:\n\u001b[1;32m     50\u001b[0m     d[\u001b[38;5;124m'\u001b[39m\u001b[38;5;124mcoord\u001b[39m\u001b[38;5;124m'\u001b[39m]\u001b[38;5;241m.\u001b[39mrequires_grad_(\u001b[38;5;28;01mTrue\u001b[39;00m)\n\u001b[0;32m---> 51\u001b[0m _out \u001b[38;5;241m=\u001b[39m \u001b[38;5;28;43mself\u001b[39;49m\u001b[38;5;241;43m.\u001b[39;49m\u001b[43mmodel\u001b[49m\u001b[43m(\u001b[49m\u001b[43md\u001b[49m\u001b[43m)\u001b[49m\n\u001b[1;32m     52\u001b[0m ret \u001b[38;5;241m=\u001b[39m \u001b[38;5;28mdict\u001b[39m(energy\u001b[38;5;241m=\u001b[39m_out[\u001b[38;5;124m'\u001b[39m\u001b[38;5;124menergy\u001b[39m\u001b[38;5;124m'\u001b[39m]\u001b[38;5;241m.\u001b[39mitem(), charges\u001b[38;5;241m=\u001b[39m_out[\u001b[38;5;124m'\u001b[39m\u001b[38;5;124mcharges\u001b[39m\u001b[38;5;124m'\u001b[39m]\u001b[38;5;241m.\u001b[39mdetach()[\u001b[38;5;241m0\u001b[39m]\u001b[38;5;241m.\u001b[39mcpu()\u001b[38;5;241m.\u001b[39mnumpy())\n\u001b[1;32m     53\u001b[0m \u001b[38;5;28;01mif\u001b[39;00m forces:\n",
            "File \u001b[0;32m~/.python/current/lib/python3.10/site-packages/torch/nn/modules/module.py:1501\u001b[0m, in \u001b[0;36mModule._call_impl\u001b[0;34m(self, *args, **kwargs)\u001b[0m\n\u001b[1;32m   1496\u001b[0m \u001b[38;5;66;03m# If we don't have any hooks, we want to skip the rest of the logic in\u001b[39;00m\n\u001b[1;32m   1497\u001b[0m \u001b[38;5;66;03m# this function, and just call forward.\u001b[39;00m\n\u001b[1;32m   1498\u001b[0m \u001b[38;5;28;01mif\u001b[39;00m \u001b[38;5;129;01mnot\u001b[39;00m (\u001b[38;5;28mself\u001b[39m\u001b[38;5;241m.\u001b[39m_backward_hooks \u001b[38;5;129;01mor\u001b[39;00m \u001b[38;5;28mself\u001b[39m\u001b[38;5;241m.\u001b[39m_backward_pre_hooks \u001b[38;5;129;01mor\u001b[39;00m \u001b[38;5;28mself\u001b[39m\u001b[38;5;241m.\u001b[39m_forward_hooks \u001b[38;5;129;01mor\u001b[39;00m \u001b[38;5;28mself\u001b[39m\u001b[38;5;241m.\u001b[39m_forward_pre_hooks\n\u001b[1;32m   1499\u001b[0m         \u001b[38;5;129;01mor\u001b[39;00m _global_backward_pre_hooks \u001b[38;5;129;01mor\u001b[39;00m _global_backward_hooks\n\u001b[1;32m   1500\u001b[0m         \u001b[38;5;129;01mor\u001b[39;00m _global_forward_hooks \u001b[38;5;129;01mor\u001b[39;00m _global_forward_pre_hooks):\n\u001b[0;32m-> 1501\u001b[0m     \u001b[38;5;28;01mreturn\u001b[39;00m \u001b[43mforward_call\u001b[49m\u001b[43m(\u001b[49m\u001b[38;5;241;43m*\u001b[39;49m\u001b[43margs\u001b[49m\u001b[43m,\u001b[49m\u001b[43m \u001b[49m\u001b[38;5;241;43m*\u001b[39;49m\u001b[38;5;241;43m*\u001b[39;49m\u001b[43mkwargs\u001b[49m\u001b[43m)\u001b[49m\n\u001b[1;32m   1502\u001b[0m \u001b[38;5;66;03m# Do not call functions when jit is used\u001b[39;00m\n\u001b[1;32m   1503\u001b[0m full_backward_hooks, non_full_backward_hooks \u001b[38;5;241m=\u001b[39m [], []\n",
            "\u001b[0;31mKeyboardInterrupt\u001b[0m: "
          ]
        }
      ],
      "source": [
        "# fragments_params\n",
        "fp_DA = {\n",
        "    \"diene\"        : (0, [7,8,11,12,14,20,21,22,23,24,25,26]),\n",
        "    \"dienophile\"   : (0, [1,2,3,4,5,6,9,10,13,15,16,17,18,19])\n",
        "    }\n",
        "\n",
        "# parameters\n",
        "resultSavePath = \"./DA_result.json\"   # filename to save\n",
        "include_fragments=True                # show fragmets distortion energy\n",
        "relative_idx=0                        # relative energy reference\n",
        "unit=\"Hartree\"                        # energy unit -- HArTrEe harTREE both possible\n",
        "\n",
        "\n",
        "aimDIAS_run(trajFile=\"DA.xyz\",\n",
        "            fragments_params=fp_DA,\n",
        "            include_fragments=include_fragments,\n",
        "            relative_idx=relative_idx,\n",
        "            unit=unit,\n",
        "            resultSavePath=resultSavePath,\n",
        "            Calculator=calc)\n",
        "\n",
        "# Runtime: only ~30 mins for Diels Alder D/I analysis(n_frags=2) with 101 IRC points"
      ]
    },
    {
      "cell_type": "markdown",
      "metadata": {
        "id": "U5h14utHqQq8"
      },
      "source": [
        "<br/>\n",
        "\n",
        "> ***Plot previously calculated result without calcualtion***\n",
        "\n"
      ]
    },
    {
      "cell_type": "markdown",
      "metadata": {
        "id": "PkAyBXvFEeGC"
      },
      "source": [
        "***key parameters***\n",
        "\n",
        "  - `DIAresultPath` : json file path *#contains caculation result & meta_data*\n",
        "\n",
        "  - `mode` : 'plot' *#default is 'calculation'*"
      ]
    },
    {
      "cell_type": "code",
      "execution_count": null,
      "metadata": {
        "colab": {
          "base_uri": "https://localhost:8080/",
          "height": 449
        },
        "id": "rdUJpehYSV3w",
        "outputId": "878ac6f9-501a-4ff4-e22c-b944192670a5"
      },
      "outputs": [],
      "source": [
        "# change mode \"calculation\"(default) --> \"plot\" , result filepath\n",
        "mode=\"plot\"\n",
        "DIAresultPath=\"./DA_result.json\"\n",
        "\n",
        "# plot option\n",
        "unit=\"ev\"\n",
        "relative_idx = -1\n",
        "\n",
        "# axis option\n",
        "axis_type=\"distance\"\n",
        "gp_DA = {\"distance\" : [5, 8]}\n",
        "\n",
        "aimDIAS_run(trajFile=\"DA.xyz\",\n",
        "            fragments_params=fp_DA,\n",
        "            mode=mode,\n",
        "            geo_param=gp_DA,\n",
        "            axis_type=axis_type,\n",
        "            include_fragments=True,\n",
        "            relative_idx=relative_idx,\n",
        "            unit=unit,\n",
        "            DIAresultPath=DIAresultPath,\n",
        "            Calculator=calc)"
      ]
    },
    {
      "cell_type": "markdown",
      "metadata": {
        "id": "f3_XDhLgAVwU"
      },
      "source": [
        "<br/>\n",
        "\n",
        "> ***axis validation*** (optional)"
      ]
    },
    {
      "cell_type": "markdown",
      "metadata": {
        "id": "eO5RAHreAcbq"
      },
      "source": [
        "- **monotonic curve** --> *valid axis*\n",
        "- **non-monotonic curve** --> *invalid axis*"
      ]
    },
    {
      "cell_type": "code",
      "execution_count": null,
      "metadata": {
        "colab": {
          "base_uri": "https://localhost:8080/",
          "height": 489
        },
        "id": "dfBVWTtk9MLC",
        "outputId": "2813b4d7-9dff-4aa7-bce1-438a4d5d3c7c"
      },
      "outputs": [],
      "source": [
        "# axis vailidation\n",
        "import matplotlib.pyplot as plt\n",
        "from aimDIAS import geometric_parameter\n",
        "\n",
        "# distance axis\n",
        "gp_DA = {\"distance\" : [5, 8]}\n",
        "distance_IRC = geometric_parameter(\"DA.xyz\", gp_DA)\n",
        "#IRC\n",
        "IRC = [irc for irc in range(0, len(distance_IRC))]\n",
        "\n",
        "plt.plot(IRC, distance_IRC, marker=\"x\", markersize=3, color=\"skyblue\")\n",
        "plt.title(\"IRC vs. distance (axis validation)\")\n",
        "plt.xlabel(\"IRC\")\n",
        "plt.ylabel(\"distance C5-C8 / A\")"
      ]
    },
    {
      "cell_type": "code",
      "execution_count": null,
      "metadata": {
        "colab": {
          "base_uri": "https://localhost:8080/",
          "height": 472
        },
        "id": "BGh1H-nY5pPP",
        "outputId": "d2eaddd6-71dc-4083-ccb1-2cfd1d8e40a9"
      },
      "outputs": [],
      "source": [
        "# custom plot #\n",
        "\n",
        "import json\n",
        "from aimDIAS import DIASparser\n",
        "from aimDIAS import geometric_parameter\n",
        "\n",
        "# read previously calculated result file\n",
        "DA_json = json.load(open(\"/content/DA_result.json\"))[\"result\"]\n",
        "\n",
        "# parsing results\n",
        "E_tot = DIASparser(DA_json, fragType=\"molecule\", energyType = \"total\", relative_idx=\"min\")\n",
        "E_dis = DIASparser(DA_json, fragType=\"molecule\", energyType = \"distortion\", relative_idx=\"min\")\n",
        "E_int = DIASparser(DA_json, fragType=\"molecule\", energyType = \"interaction\", relative_idx=\"min\")\n",
        "frag1_dis = DIASparser(DA_json, fragType=\"diene\", energyType = \"distortion\", relative_idx=\"min\")\n",
        "frag2_dis = DIASparser(DA_json, fragType=\"dienophile\", energyType = \"distortion\", relative_idx=\"min\")\n",
        "\n",
        "# IRC\n",
        "num_irc = len(read_traj(\"DA.xyz\"))\n",
        "IRC = [irc for irc in range(0, num_irc)]\n",
        "\n",
        "# distance_xaxis\n",
        "'''\n",
        "gp_DA = {\"distance\" : [5, 8]}\n",
        "distance_xaxis = geometric_parameter(\"DA.xyz\", gp_DA)\n",
        "'''\n",
        "\n",
        "# plot\n",
        "plt.plot(IRC, E_tot, label=\"E_tot\")\n",
        "plt.plot(IRC, E_dis, label=\"E_dis\")\n",
        "plt.plot(IRC, E_int, label=\"E_int\")\n",
        "plt.plot(IRC, frag1_dis, label=\"E_dis(diene)\")\n",
        "plt.plot(IRC, frag2_dis, label=\"E_dis(dienophile)\")\n",
        "plt.legend()\n",
        "\n",
        "plt.title(\"custom calculation\")\n",
        "plt.xlabel(\"IRC\")\n",
        "plt.ylabel(\"Rel. Energy / kcal/mol\")\n",
        "\n",
        "plt.show()"
      ]
    },
    {
      "cell_type": "markdown",
      "metadata": {
        "id": "5JKegd2rgBaX"
      },
      "source": [
        "## Worked Example 2  |  wittig RXN"
      ]
    },
    {
      "cell_type": "code",
      "execution_count": null,
      "metadata": {
        "colab": {
          "base_uri": "https://localhost:8080/"
        },
        "id": "T5mtXJzagZCZ",
        "outputId": "73bad672-da78-433d-c8ee-63f7073ca895"
      },
      "outputs": [],
      "source": [
        "load_data(\"wittig.xyz\", save_file=True)\n",
        "\n",
        "num_irc = len(read_traj(\"wittig.xyz\"))\n",
        "print(f\"\\nNumber of IRC points : {num_irc}\\n\")\n",
        "\n",
        "# first xyz in traj\n",
        "first_wittig_xyz = read_traj(\"wittig.xyz\", returnString=True)[0]\n",
        "print(first_wittig_xyz)"
      ]
    },
    {
      "cell_type": "code",
      "execution_count": null,
      "metadata": {
        "colab": {
          "base_uri": "https://localhost:8080/",
          "height": 567
        },
        "id": "uGierNFshCOF",
        "outputId": "b3f7f804-04a6-4610-bc18-d6ba5391d856"
      },
      "outputs": [],
      "source": [
        "draw_xyz(first_wittig_xyz)"
      ]
    },
    {
      "cell_type": "markdown",
      "metadata": {
        "id": "0EY_DwScpihi"
      },
      "source": [
        "<br/>\n",
        "\n",
        "> ***Automatate Run***"
      ]
    },
    {
      "cell_type": "code",
      "execution_count": null,
      "metadata": {
        "colab": {
          "base_uri": "https://localhost:8080/",
          "height": 466
        },
        "id": "mVAYUfI8kTTn",
        "outputId": "74467f9b-c4ed-4fe6-b92c-795e102011c8"
      },
      "outputs": [],
      "source": [
        "fp_wittig = {\n",
        "    \"frag_1\"   :  (  0, [1,2,5, 39, 40, 41, 42, 43, 44, 45, 46, 47]   ),\n",
        "    \"frag_2\"   :  (  0, [3, 4, 6, 7, 8, 9, 10, 11, 12, 13, 14, 15, 16, 17, 18, 19, 20, 21, 22, 23, 24, 25, 26, 27, 28, 29, 30, 31, 32, 33, 34, 35, 36, 37, 38]   )\n",
        "    }\n",
        "\n",
        "aimDIAS_run(\"wittig.xyz\",\n",
        "            fragments_params=fp_wittig,\n",
        "            include_fragments=True,\n",
        "            relative_idx = 0)\n",
        "\n",
        "# Runtime: only ~31 mins for wittig RXN D/I analysis(n_frags=2) with 79 IRC points"
      ]
    },
    {
      "cell_type": "markdown",
      "metadata": {
        "id": "nVZ1ni1GpZC1"
      },
      "source": [
        "<br/>\n",
        "\n",
        "> ***Manual Run*** (Not Recommended)"
      ]
    },
    {
      "cell_type": "code",
      "execution_count": null,
      "metadata": {
        "colab": {
          "base_uri": "https://localhost:8080/",
          "height": 466
        },
        "id": "aR_uJ_kgSV55",
        "outputId": "3114b0c2-2e36-4d92-9d49-532d9ee583fe"
      },
      "outputs": [],
      "source": [
        "from aimDIAS import trajDIAS\n",
        "\n",
        "# parameters\n",
        "fp_wittig = {\n",
        "    \"frag_1\"   :  (  0, [1,2,5, 39, 40, 41, 42, 43, 44, 45, 46, 47]   ),\n",
        "    \"frag_2\"   :  (  0, [3, 4, 6, 7, 8, 9, 10, 11, 12, 13, 14, 15, 16, 17, 18, 19, 20, 21, 22, 23, 24, 25, 26, 27, 28, 29, 30, 31, 32, 33, 34, 35, 36, 37, 38]   )\n",
        "    }\n",
        "\n",
        "# run DIAS\n",
        "DIASresult = trajDIAS(\"wittig.xyz\", fragments_params=fp_wittig)\n",
        "\n",
        "E_tot = DIASparser(DIASresult, fragType=\"molecule\", energyType = \"total\", relative_idx=0, )\n",
        "E_dis = DIASparser(DIASresult, fragType=\"molecule\", energyType = \"distortion\", relative_idx=0)\n",
        "E_int = DIASparser(DIASresult, fragType=\"molecule\", energyType = \"interaction\", relative_idx=0)\n",
        "frag1_dis = DIASparser(DIASresult, fragType=\"frag_1\", energyType = \"distortion\", relative_idx=0)\n",
        "frag2_dis = DIASparser(DIASresult, fragType=\"frag_2\", energyType = \"distortion\", relative_idx=0)\n",
        "\n",
        "# geometric paramter\n",
        "IRC = DIASparser(DIASresult, fragType=\"irc\")\n",
        "\n",
        "# plot\n",
        "plt.plot(IRC, E_tot, label=\"E_tot\")\n",
        "plt.plot(IRC, E_dis, label=\"E_dis\")\n",
        "plt.plot(IRC, E_int, label=\"E_int\")\n",
        "plt.plot(IRC, frag1_dis, label=\"E_dis(frag1)\")\n",
        "plt.plot(IRC, frag2_dis, label=\"E_dis(frag2)\")\n",
        "plt.legend()\n",
        "\n",
        "plt.xlabel(\"IRC point\")\n",
        "plt.ylabel(\"Rel. Energy / kcal/mol\")\n",
        "\n",
        "plt.show()\n",
        "\n",
        "# Runtime: only ~31 mins for wittig RXN D/I analysis(n_frags=2) with 79 IRC points"
      ]
    },
    {
      "cell_type": "code",
      "execution_count": null,
      "metadata": {},
      "outputs": [],
      "source": []
    }
  ],
  "metadata": {
    "colab": {
      "include_colab_link": true,
      "provenance": []
    },
    "kernelspec": {
      "display_name": "Python 3",
      "name": "python3"
    },
    "language_info": {
      "codemirror_mode": {
        "name": "ipython",
        "version": 3
      },
      "file_extension": ".py",
      "mimetype": "text/x-python",
      "name": "python",
      "nbconvert_exporter": "python",
      "pygments_lexer": "ipython3",
      "version": "3.10.13"
    }
  },
  "nbformat": 4,
  "nbformat_minor": 0
}
